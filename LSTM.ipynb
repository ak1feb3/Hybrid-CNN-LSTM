{
  "cells": [
    {
      "cell_type": "markdown",
      "metadata": {
        "id": "view-in-github",
        "colab_type": "text"
      },
      "source": [
        "<a href=\"https://colab.research.google.com/github/ak1feb3/Hybrid-CNN-LSTM/blob/main/LSTM.ipynb\" target=\"_parent\"><img src=\"https://colab.research.google.com/assets/colab-badge.svg\" alt=\"Open In Colab\"/></a>"
      ]
    },
    {
      "cell_type": "markdown",
      "metadata": {
        "id": "IC94Tpv3up0a"
      },
      "source": [
        "IMPORT LIBRARIES"
      ]
    },
    {
      "cell_type": "code",
      "execution_count": 1,
      "metadata": {
        "id": "EzY4wdq-hi6N"
      },
      "outputs": [],
      "source": [
        "import math\n",
        "import numpy as np             #numerical operations \n",
        "import pandas as pd            #data analysis\n",
        "import tensorflow as tf        #framework\n",
        "import pandas_datareader as pdr\n",
        "import matplotlib.pyplot as plt\n",
        "from numpy import array\n",
        "from sklearn.preprocessing import MinMaxScaler\n",
        "import seaborn as sns\n",
        "sns.set_style('whitegrid')\n",
        "plt.style.use(\"fivethirtyeight\")\n",
        "import keras\n",
        "from keras.models import Sequential\n",
        "from keras.callbacks import EarlyStopping\n",
        "from keras.layers import Dense, LSTM, Dropout\n",
        "from sklearn.model_selection import train_test_split\n",
        "from sklearn.metrics import mean_squared_error, mean_absolute_error"
      ]
    },
    {
      "cell_type": "markdown",
      "metadata": {
        "id": "IxGsRJIbm-gb"
      },
      "source": [
        "IMPORT DATASET "
      ]
    },
    {
      "cell_type": "code",
      "execution_count": 3,
      "metadata": {
        "colab": {
          "base_uri": "https://localhost:8080/",
          "height": 73
        },
        "id": "mkgcW6dcmsvm",
        "outputId": "4b63f8c5-f2eb-476b-dd93-7c6cd49c2019"
      },
      "outputs": [
        {
          "output_type": "display_data",
          "data": {
            "text/plain": [
              "<IPython.core.display.HTML object>"
            ],
            "text/html": [
              "\n",
              "     <input type=\"file\" id=\"files-41d0610f-5c1e-4372-8b0a-40518a7dc339\" name=\"files[]\" multiple disabled\n",
              "        style=\"border:none\" />\n",
              "     <output id=\"result-41d0610f-5c1e-4372-8b0a-40518a7dc339\">\n",
              "      Upload widget is only available when the cell has been executed in the\n",
              "      current browser session. Please rerun this cell to enable.\n",
              "      </output>\n",
              "      <script>// Copyright 2017 Google LLC\n",
              "//\n",
              "// Licensed under the Apache License, Version 2.0 (the \"License\");\n",
              "// you may not use this file except in compliance with the License.\n",
              "// You may obtain a copy of the License at\n",
              "//\n",
              "//      http://www.apache.org/licenses/LICENSE-2.0\n",
              "//\n",
              "// Unless required by applicable law or agreed to in writing, software\n",
              "// distributed under the License is distributed on an \"AS IS\" BASIS,\n",
              "// WITHOUT WARRANTIES OR CONDITIONS OF ANY KIND, either express or implied.\n",
              "// See the License for the specific language governing permissions and\n",
              "// limitations under the License.\n",
              "\n",
              "/**\n",
              " * @fileoverview Helpers for google.colab Python module.\n",
              " */\n",
              "(function(scope) {\n",
              "function span(text, styleAttributes = {}) {\n",
              "  const element = document.createElement('span');\n",
              "  element.textContent = text;\n",
              "  for (const key of Object.keys(styleAttributes)) {\n",
              "    element.style[key] = styleAttributes[key];\n",
              "  }\n",
              "  return element;\n",
              "}\n",
              "\n",
              "// Max number of bytes which will be uploaded at a time.\n",
              "const MAX_PAYLOAD_SIZE = 100 * 1024;\n",
              "\n",
              "function _uploadFiles(inputId, outputId) {\n",
              "  const steps = uploadFilesStep(inputId, outputId);\n",
              "  const outputElement = document.getElementById(outputId);\n",
              "  // Cache steps on the outputElement to make it available for the next call\n",
              "  // to uploadFilesContinue from Python.\n",
              "  outputElement.steps = steps;\n",
              "\n",
              "  return _uploadFilesContinue(outputId);\n",
              "}\n",
              "\n",
              "// This is roughly an async generator (not supported in the browser yet),\n",
              "// where there are multiple asynchronous steps and the Python side is going\n",
              "// to poll for completion of each step.\n",
              "// This uses a Promise to block the python side on completion of each step,\n",
              "// then passes the result of the previous step as the input to the next step.\n",
              "function _uploadFilesContinue(outputId) {\n",
              "  const outputElement = document.getElementById(outputId);\n",
              "  const steps = outputElement.steps;\n",
              "\n",
              "  const next = steps.next(outputElement.lastPromiseValue);\n",
              "  return Promise.resolve(next.value.promise).then((value) => {\n",
              "    // Cache the last promise value to make it available to the next\n",
              "    // step of the generator.\n",
              "    outputElement.lastPromiseValue = value;\n",
              "    return next.value.response;\n",
              "  });\n",
              "}\n",
              "\n",
              "/**\n",
              " * Generator function which is called between each async step of the upload\n",
              " * process.\n",
              " * @param {string} inputId Element ID of the input file picker element.\n",
              " * @param {string} outputId Element ID of the output display.\n",
              " * @return {!Iterable<!Object>} Iterable of next steps.\n",
              " */\n",
              "function* uploadFilesStep(inputId, outputId) {\n",
              "  const inputElement = document.getElementById(inputId);\n",
              "  inputElement.disabled = false;\n",
              "\n",
              "  const outputElement = document.getElementById(outputId);\n",
              "  outputElement.innerHTML = '';\n",
              "\n",
              "  const pickedPromise = new Promise((resolve) => {\n",
              "    inputElement.addEventListener('change', (e) => {\n",
              "      resolve(e.target.files);\n",
              "    });\n",
              "  });\n",
              "\n",
              "  const cancel = document.createElement('button');\n",
              "  inputElement.parentElement.appendChild(cancel);\n",
              "  cancel.textContent = 'Cancel upload';\n",
              "  const cancelPromise = new Promise((resolve) => {\n",
              "    cancel.onclick = () => {\n",
              "      resolve(null);\n",
              "    };\n",
              "  });\n",
              "\n",
              "  // Wait for the user to pick the files.\n",
              "  const files = yield {\n",
              "    promise: Promise.race([pickedPromise, cancelPromise]),\n",
              "    response: {\n",
              "      action: 'starting',\n",
              "    }\n",
              "  };\n",
              "\n",
              "  cancel.remove();\n",
              "\n",
              "  // Disable the input element since further picks are not allowed.\n",
              "  inputElement.disabled = true;\n",
              "\n",
              "  if (!files) {\n",
              "    return {\n",
              "      response: {\n",
              "        action: 'complete',\n",
              "      }\n",
              "    };\n",
              "  }\n",
              "\n",
              "  for (const file of files) {\n",
              "    const li = document.createElement('li');\n",
              "    li.append(span(file.name, {fontWeight: 'bold'}));\n",
              "    li.append(span(\n",
              "        `(${file.type || 'n/a'}) - ${file.size} bytes, ` +\n",
              "        `last modified: ${\n",
              "            file.lastModifiedDate ? file.lastModifiedDate.toLocaleDateString() :\n",
              "                                    'n/a'} - `));\n",
              "    const percent = span('0% done');\n",
              "    li.appendChild(percent);\n",
              "\n",
              "    outputElement.appendChild(li);\n",
              "\n",
              "    const fileDataPromise = new Promise((resolve) => {\n",
              "      const reader = new FileReader();\n",
              "      reader.onload = (e) => {\n",
              "        resolve(e.target.result);\n",
              "      };\n",
              "      reader.readAsArrayBuffer(file);\n",
              "    });\n",
              "    // Wait for the data to be ready.\n",
              "    let fileData = yield {\n",
              "      promise: fileDataPromise,\n",
              "      response: {\n",
              "        action: 'continue',\n",
              "      }\n",
              "    };\n",
              "\n",
              "    // Use a chunked sending to avoid message size limits. See b/62115660.\n",
              "    let position = 0;\n",
              "    do {\n",
              "      const length = Math.min(fileData.byteLength - position, MAX_PAYLOAD_SIZE);\n",
              "      const chunk = new Uint8Array(fileData, position, length);\n",
              "      position += length;\n",
              "\n",
              "      const base64 = btoa(String.fromCharCode.apply(null, chunk));\n",
              "      yield {\n",
              "        response: {\n",
              "          action: 'append',\n",
              "          file: file.name,\n",
              "          data: base64,\n",
              "        },\n",
              "      };\n",
              "\n",
              "      let percentDone = fileData.byteLength === 0 ?\n",
              "          100 :\n",
              "          Math.round((position / fileData.byteLength) * 100);\n",
              "      percent.textContent = `${percentDone}% done`;\n",
              "\n",
              "    } while (position < fileData.byteLength);\n",
              "  }\n",
              "\n",
              "  // All done.\n",
              "  yield {\n",
              "    response: {\n",
              "      action: 'complete',\n",
              "    }\n",
              "  };\n",
              "}\n",
              "\n",
              "scope.google = scope.google || {};\n",
              "scope.google.colab = scope.google.colab || {};\n",
              "scope.google.colab._files = {\n",
              "  _uploadFiles,\n",
              "  _uploadFilesContinue,\n",
              "};\n",
              "})(self);\n",
              "</script> "
            ]
          },
          "metadata": {}
        },
        {
          "output_type": "stream",
          "name": "stdout",
          "text": [
            "Saving TCS.csv to TCS.csv\n"
          ]
        }
      ],
      "source": [
        "from google.colab import files\n",
        "CSVFILE=files.upload()"
      ]
    },
    {
      "cell_type": "code",
      "execution_count": 5,
      "metadata": {
        "id": "pmatAXbtvWif"
      },
      "outputs": [],
      "source": [
        "df=pd.read_csv('TCS.csv')    #,parse_dates= True , index_col= \"Date\""
      ]
    },
    {
      "cell_type": "code",
      "execution_count": 4,
      "metadata": {
        "colab": {
          "base_uri": "https://localhost:8080/",
          "height": 206
        },
        "id": "_mPIw8vrX-uS",
        "outputId": "d1c2d210-05b7-4ede-82f5-aa9f1ced2bb5"
      },
      "outputs": [
        {
          "output_type": "execute_result",
          "data": {
            "text/plain": [
              "       close\n",
              "0  29.519140\n",
              "1  29.119476\n",
              "2  27.111877\n",
              "3  27.111877\n",
              "4  27.046812"
            ],
            "text/html": [
              "\n",
              "  <div id=\"df-926562f2-fe62-4f3b-b7e5-be84863d88af\">\n",
              "    <div class=\"colab-df-container\">\n",
              "      <div>\n",
              "<style scoped>\n",
              "    .dataframe tbody tr th:only-of-type {\n",
              "        vertical-align: middle;\n",
              "    }\n",
              "\n",
              "    .dataframe tbody tr th {\n",
              "        vertical-align: top;\n",
              "    }\n",
              "\n",
              "    .dataframe thead th {\n",
              "        text-align: right;\n",
              "    }\n",
              "</style>\n",
              "<table border=\"1\" class=\"dataframe\">\n",
              "  <thead>\n",
              "    <tr style=\"text-align: right;\">\n",
              "      <th></th>\n",
              "      <th>close</th>\n",
              "    </tr>\n",
              "  </thead>\n",
              "  <tbody>\n",
              "    <tr>\n",
              "      <th>0</th>\n",
              "      <td>29.519140</td>\n",
              "    </tr>\n",
              "    <tr>\n",
              "      <th>1</th>\n",
              "      <td>29.119476</td>\n",
              "    </tr>\n",
              "    <tr>\n",
              "      <th>2</th>\n",
              "      <td>27.111877</td>\n",
              "    </tr>\n",
              "    <tr>\n",
              "      <th>3</th>\n",
              "      <td>27.111877</td>\n",
              "    </tr>\n",
              "    <tr>\n",
              "      <th>4</th>\n",
              "      <td>27.046812</td>\n",
              "    </tr>\n",
              "  </tbody>\n",
              "</table>\n",
              "</div>\n",
              "      <button class=\"colab-df-convert\" onclick=\"convertToInteractive('df-926562f2-fe62-4f3b-b7e5-be84863d88af')\"\n",
              "              title=\"Convert this dataframe to an interactive table.\"\n",
              "              style=\"display:none;\">\n",
              "        \n",
              "  <svg xmlns=\"http://www.w3.org/2000/svg\" height=\"24px\"viewBox=\"0 0 24 24\"\n",
              "       width=\"24px\">\n",
              "    <path d=\"M0 0h24v24H0V0z\" fill=\"none\"/>\n",
              "    <path d=\"M18.56 5.44l.94 2.06.94-2.06 2.06-.94-2.06-.94-.94-2.06-.94 2.06-2.06.94zm-11 1L8.5 8.5l.94-2.06 2.06-.94-2.06-.94L8.5 2.5l-.94 2.06-2.06.94zm10 10l.94 2.06.94-2.06 2.06-.94-2.06-.94-.94-2.06-.94 2.06-2.06.94z\"/><path d=\"M17.41 7.96l-1.37-1.37c-.4-.4-.92-.59-1.43-.59-.52 0-1.04.2-1.43.59L10.3 9.45l-7.72 7.72c-.78.78-.78 2.05 0 2.83L4 21.41c.39.39.9.59 1.41.59.51 0 1.02-.2 1.41-.59l7.78-7.78 2.81-2.81c.8-.78.8-2.07 0-2.86zM5.41 20L4 18.59l7.72-7.72 1.47 1.35L5.41 20z\"/>\n",
              "  </svg>\n",
              "      </button>\n",
              "      \n",
              "  <style>\n",
              "    .colab-df-container {\n",
              "      display:flex;\n",
              "      flex-wrap:wrap;\n",
              "      gap: 12px;\n",
              "    }\n",
              "\n",
              "    .colab-df-convert {\n",
              "      background-color: #E8F0FE;\n",
              "      border: none;\n",
              "      border-radius: 50%;\n",
              "      cursor: pointer;\n",
              "      display: none;\n",
              "      fill: #1967D2;\n",
              "      height: 32px;\n",
              "      padding: 0 0 0 0;\n",
              "      width: 32px;\n",
              "    }\n",
              "\n",
              "    .colab-df-convert:hover {\n",
              "      background-color: #E2EBFA;\n",
              "      box-shadow: 0px 1px 2px rgba(60, 64, 67, 0.3), 0px 1px 3px 1px rgba(60, 64, 67, 0.15);\n",
              "      fill: #174EA6;\n",
              "    }\n",
              "\n",
              "    [theme=dark] .colab-df-convert {\n",
              "      background-color: #3B4455;\n",
              "      fill: #D2E3FC;\n",
              "    }\n",
              "\n",
              "    [theme=dark] .colab-df-convert:hover {\n",
              "      background-color: #434B5C;\n",
              "      box-shadow: 0px 1px 3px 1px rgba(0, 0, 0, 0.15);\n",
              "      filter: drop-shadow(0px 1px 2px rgba(0, 0, 0, 0.3));\n",
              "      fill: #FFFFFF;\n",
              "    }\n",
              "  </style>\n",
              "\n",
              "      <script>\n",
              "        const buttonEl =\n",
              "          document.querySelector('#df-926562f2-fe62-4f3b-b7e5-be84863d88af button.colab-df-convert');\n",
              "        buttonEl.style.display =\n",
              "          google.colab.kernel.accessAllowed ? 'block' : 'none';\n",
              "\n",
              "        async function convertToInteractive(key) {\n",
              "          const element = document.querySelector('#df-926562f2-fe62-4f3b-b7e5-be84863d88af');\n",
              "          const dataTable =\n",
              "            await google.colab.kernel.invokeFunction('convertToInteractive',\n",
              "                                                     [key], {});\n",
              "          if (!dataTable) return;\n",
              "\n",
              "          const docLinkHtml = 'Like what you see? Visit the ' +\n",
              "            '<a target=\"_blank\" href=https://colab.research.google.com/notebooks/data_table.ipynb>data table notebook</a>'\n",
              "            + ' to learn more about interactive tables.';\n",
              "          element.innerHTML = '';\n",
              "          dataTable['output_type'] = 'display_data';\n",
              "          await google.colab.output.renderOutput(dataTable, element);\n",
              "          const docLink = document.createElement('div');\n",
              "          docLink.innerHTML = docLinkHtml;\n",
              "          element.appendChild(docLink);\n",
              "        }\n",
              "      </script>\n",
              "    </div>\n",
              "  </div>\n",
              "  "
            ]
          },
          "metadata": {},
          "execution_count": 4
        }
      ],
      "source": [
        "df.head()"
      ]
    },
    {
      "cell_type": "code",
      "execution_count": 5,
      "metadata": {
        "colab": {
          "base_uri": "https://localhost:8080/",
          "height": 206
        },
        "id": "3_0cYFW8VxSx",
        "outputId": "48728745-93b1-4aa8-bb62-d65417dcf563"
      },
      "outputs": [
        {
          "output_type": "execute_result",
          "data": {
            "text/plain": [
              "            close\n",
              "4458  3871.300049\n",
              "4459  3836.949951\n",
              "4460  3779.149902\n",
              "4461  3791.899902\n",
              "4462  3773.199951"
            ],
            "text/html": [
              "\n",
              "  <div id=\"df-f1353246-c1c0-42c5-bf9e-4694538a8206\">\n",
              "    <div class=\"colab-df-container\">\n",
              "      <div>\n",
              "<style scoped>\n",
              "    .dataframe tbody tr th:only-of-type {\n",
              "        vertical-align: middle;\n",
              "    }\n",
              "\n",
              "    .dataframe tbody tr th {\n",
              "        vertical-align: top;\n",
              "    }\n",
              "\n",
              "    .dataframe thead th {\n",
              "        text-align: right;\n",
              "    }\n",
              "</style>\n",
              "<table border=\"1\" class=\"dataframe\">\n",
              "  <thead>\n",
              "    <tr style=\"text-align: right;\">\n",
              "      <th></th>\n",
              "      <th>close</th>\n",
              "    </tr>\n",
              "  </thead>\n",
              "  <tbody>\n",
              "    <tr>\n",
              "      <th>4458</th>\n",
              "      <td>3871.300049</td>\n",
              "    </tr>\n",
              "    <tr>\n",
              "      <th>4459</th>\n",
              "      <td>3836.949951</td>\n",
              "    </tr>\n",
              "    <tr>\n",
              "      <th>4460</th>\n",
              "      <td>3779.149902</td>\n",
              "    </tr>\n",
              "    <tr>\n",
              "      <th>4461</th>\n",
              "      <td>3791.899902</td>\n",
              "    </tr>\n",
              "    <tr>\n",
              "      <th>4462</th>\n",
              "      <td>3773.199951</td>\n",
              "    </tr>\n",
              "  </tbody>\n",
              "</table>\n",
              "</div>\n",
              "      <button class=\"colab-df-convert\" onclick=\"convertToInteractive('df-f1353246-c1c0-42c5-bf9e-4694538a8206')\"\n",
              "              title=\"Convert this dataframe to an interactive table.\"\n",
              "              style=\"display:none;\">\n",
              "        \n",
              "  <svg xmlns=\"http://www.w3.org/2000/svg\" height=\"24px\"viewBox=\"0 0 24 24\"\n",
              "       width=\"24px\">\n",
              "    <path d=\"M0 0h24v24H0V0z\" fill=\"none\"/>\n",
              "    <path d=\"M18.56 5.44l.94 2.06.94-2.06 2.06-.94-2.06-.94-.94-2.06-.94 2.06-2.06.94zm-11 1L8.5 8.5l.94-2.06 2.06-.94-2.06-.94L8.5 2.5l-.94 2.06-2.06.94zm10 10l.94 2.06.94-2.06 2.06-.94-2.06-.94-.94-2.06-.94 2.06-2.06.94z\"/><path d=\"M17.41 7.96l-1.37-1.37c-.4-.4-.92-.59-1.43-.59-.52 0-1.04.2-1.43.59L10.3 9.45l-7.72 7.72c-.78.78-.78 2.05 0 2.83L4 21.41c.39.39.9.59 1.41.59.51 0 1.02-.2 1.41-.59l7.78-7.78 2.81-2.81c.8-.78.8-2.07 0-2.86zM5.41 20L4 18.59l7.72-7.72 1.47 1.35L5.41 20z\"/>\n",
              "  </svg>\n",
              "      </button>\n",
              "      \n",
              "  <style>\n",
              "    .colab-df-container {\n",
              "      display:flex;\n",
              "      flex-wrap:wrap;\n",
              "      gap: 12px;\n",
              "    }\n",
              "\n",
              "    .colab-df-convert {\n",
              "      background-color: #E8F0FE;\n",
              "      border: none;\n",
              "      border-radius: 50%;\n",
              "      cursor: pointer;\n",
              "      display: none;\n",
              "      fill: #1967D2;\n",
              "      height: 32px;\n",
              "      padding: 0 0 0 0;\n",
              "      width: 32px;\n",
              "    }\n",
              "\n",
              "    .colab-df-convert:hover {\n",
              "      background-color: #E2EBFA;\n",
              "      box-shadow: 0px 1px 2px rgba(60, 64, 67, 0.3), 0px 1px 3px 1px rgba(60, 64, 67, 0.15);\n",
              "      fill: #174EA6;\n",
              "    }\n",
              "\n",
              "    [theme=dark] .colab-df-convert {\n",
              "      background-color: #3B4455;\n",
              "      fill: #D2E3FC;\n",
              "    }\n",
              "\n",
              "    [theme=dark] .colab-df-convert:hover {\n",
              "      background-color: #434B5C;\n",
              "      box-shadow: 0px 1px 3px 1px rgba(0, 0, 0, 0.15);\n",
              "      filter: drop-shadow(0px 1px 2px rgba(0, 0, 0, 0.3));\n",
              "      fill: #FFFFFF;\n",
              "    }\n",
              "  </style>\n",
              "\n",
              "      <script>\n",
              "        const buttonEl =\n",
              "          document.querySelector('#df-f1353246-c1c0-42c5-bf9e-4694538a8206 button.colab-df-convert');\n",
              "        buttonEl.style.display =\n",
              "          google.colab.kernel.accessAllowed ? 'block' : 'none';\n",
              "\n",
              "        async function convertToInteractive(key) {\n",
              "          const element = document.querySelector('#df-f1353246-c1c0-42c5-bf9e-4694538a8206');\n",
              "          const dataTable =\n",
              "            await google.colab.kernel.invokeFunction('convertToInteractive',\n",
              "                                                     [key], {});\n",
              "          if (!dataTable) return;\n",
              "\n",
              "          const docLinkHtml = 'Like what you see? Visit the ' +\n",
              "            '<a target=\"_blank\" href=https://colab.research.google.com/notebooks/data_table.ipynb>data table notebook</a>'\n",
              "            + ' to learn more about interactive tables.';\n",
              "          element.innerHTML = '';\n",
              "          dataTable['output_type'] = 'display_data';\n",
              "          await google.colab.output.renderOutput(dataTable, element);\n",
              "          const docLink = document.createElement('div');\n",
              "          docLink.innerHTML = docLinkHtml;\n",
              "          element.appendChild(docLink);\n",
              "        }\n",
              "      </script>\n",
              "    </div>\n",
              "  </div>\n",
              "  "
            ]
          },
          "metadata": {},
          "execution_count": 5
        }
      ],
      "source": [
        "df.tail()"
      ]
    },
    {
      "cell_type": "markdown",
      "metadata": {
        "id": "n8ZtBAFNf7KP"
      },
      "source": [
        "CLOSE VALUE"
      ]
    },
    {
      "cell_type": "code",
      "execution_count": 6,
      "metadata": {
        "colab": {
          "base_uri": "https://localhost:8080/"
        },
        "id": "kNqlNohdRhZd",
        "outputId": "8d9d42df-ed61-48d0-c60f-ad5e969ebb03"
      },
      "outputs": [
        {
          "output_type": "execute_result",
          "data": {
            "text/plain": [
              "(4463, 1)"
            ]
          },
          "metadata": {},
          "execution_count": 6
        }
      ],
      "source": [
        "dataset = df[\"close\"]\n",
        "dataset = pd.DataFrame(dataset)\n",
        "\n",
        "data = dataset.values\n",
        "\n",
        "data.shape"
      ]
    },
    {
      "cell_type": "code",
      "execution_count": 8,
      "metadata": {
        "colab": {
          "base_uri": "https://localhost:8080/"
        },
        "id": "Zi2-Jj4kBqns",
        "outputId": "2db44918-da19-40c9-bc54-f1d610768fc5"
      },
      "outputs": [
        {
          "output_type": "stream",
          "name": "stdout",
          "text": [
            "<class 'pandas.core.frame.DataFrame'>\n",
            "RangeIndex: 4463 entries, 0 to 4462\n",
            "Data columns (total 1 columns):\n",
            " #   Column  Non-Null Count  Dtype  \n",
            "---  ------  --------------  -----  \n",
            " 0   close   4463 non-null   float64\n",
            "dtypes: float64(1)\n",
            "memory usage: 35.0 KB\n"
          ]
        }
      ],
      "source": [
        "df.info()"
      ]
    },
    {
      "cell_type": "code",
      "execution_count": 9,
      "metadata": {
        "colab": {
          "base_uri": "https://localhost:8080/"
        },
        "id": "mvj3SSe8eIDH",
        "outputId": "5db3775b-77ab-4d32-fcbb-ac18308e199c"
      },
      "outputs": [
        {
          "output_type": "execute_result",
          "data": {
            "text/plain": [
              "close    0\n",
              "dtype: int64"
            ]
          },
          "metadata": {},
          "execution_count": 9
        }
      ],
      "source": [
        "df.isnull().sum()"
      ]
    },
    {
      "cell_type": "code",
      "execution_count": 10,
      "metadata": {
        "colab": {
          "base_uri": "https://localhost:8080/",
          "height": 300
        },
        "id": "HPth8oJlnDjy",
        "outputId": "865457fc-1070-4b21-f271-59626a32cc23"
      },
      "outputs": [
        {
          "output_type": "execute_result",
          "data": {
            "text/plain": [
              "             close\n",
              "count  4463.000000\n",
              "mean    866.537398\n",
              "std     829.611313\n",
              "min      26.377609\n",
              "25%     188.594620\n",
              "50%     529.713257\n",
              "75%    1154.784851\n",
              "max    3954.550049"
            ],
            "text/html": [
              "\n",
              "  <div id=\"df-d7eceb3f-1175-450a-b001-8d001b613d73\">\n",
              "    <div class=\"colab-df-container\">\n",
              "      <div>\n",
              "<style scoped>\n",
              "    .dataframe tbody tr th:only-of-type {\n",
              "        vertical-align: middle;\n",
              "    }\n",
              "\n",
              "    .dataframe tbody tr th {\n",
              "        vertical-align: top;\n",
              "    }\n",
              "\n",
              "    .dataframe thead th {\n",
              "        text-align: right;\n",
              "    }\n",
              "</style>\n",
              "<table border=\"1\" class=\"dataframe\">\n",
              "  <thead>\n",
              "    <tr style=\"text-align: right;\">\n",
              "      <th></th>\n",
              "      <th>close</th>\n",
              "    </tr>\n",
              "  </thead>\n",
              "  <tbody>\n",
              "    <tr>\n",
              "      <th>count</th>\n",
              "      <td>4463.000000</td>\n",
              "    </tr>\n",
              "    <tr>\n",
              "      <th>mean</th>\n",
              "      <td>866.537398</td>\n",
              "    </tr>\n",
              "    <tr>\n",
              "      <th>std</th>\n",
              "      <td>829.611313</td>\n",
              "    </tr>\n",
              "    <tr>\n",
              "      <th>min</th>\n",
              "      <td>26.377609</td>\n",
              "    </tr>\n",
              "    <tr>\n",
              "      <th>25%</th>\n",
              "      <td>188.594620</td>\n",
              "    </tr>\n",
              "    <tr>\n",
              "      <th>50%</th>\n",
              "      <td>529.713257</td>\n",
              "    </tr>\n",
              "    <tr>\n",
              "      <th>75%</th>\n",
              "      <td>1154.784851</td>\n",
              "    </tr>\n",
              "    <tr>\n",
              "      <th>max</th>\n",
              "      <td>3954.550049</td>\n",
              "    </tr>\n",
              "  </tbody>\n",
              "</table>\n",
              "</div>\n",
              "      <button class=\"colab-df-convert\" onclick=\"convertToInteractive('df-d7eceb3f-1175-450a-b001-8d001b613d73')\"\n",
              "              title=\"Convert this dataframe to an interactive table.\"\n",
              "              style=\"display:none;\">\n",
              "        \n",
              "  <svg xmlns=\"http://www.w3.org/2000/svg\" height=\"24px\"viewBox=\"0 0 24 24\"\n",
              "       width=\"24px\">\n",
              "    <path d=\"M0 0h24v24H0V0z\" fill=\"none\"/>\n",
              "    <path d=\"M18.56 5.44l.94 2.06.94-2.06 2.06-.94-2.06-.94-.94-2.06-.94 2.06-2.06.94zm-11 1L8.5 8.5l.94-2.06 2.06-.94-2.06-.94L8.5 2.5l-.94 2.06-2.06.94zm10 10l.94 2.06.94-2.06 2.06-.94-2.06-.94-.94-2.06-.94 2.06-2.06.94z\"/><path d=\"M17.41 7.96l-1.37-1.37c-.4-.4-.92-.59-1.43-.59-.52 0-1.04.2-1.43.59L10.3 9.45l-7.72 7.72c-.78.78-.78 2.05 0 2.83L4 21.41c.39.39.9.59 1.41.59.51 0 1.02-.2 1.41-.59l7.78-7.78 2.81-2.81c.8-.78.8-2.07 0-2.86zM5.41 20L4 18.59l7.72-7.72 1.47 1.35L5.41 20z\"/>\n",
              "  </svg>\n",
              "      </button>\n",
              "      \n",
              "  <style>\n",
              "    .colab-df-container {\n",
              "      display:flex;\n",
              "      flex-wrap:wrap;\n",
              "      gap: 12px;\n",
              "    }\n",
              "\n",
              "    .colab-df-convert {\n",
              "      background-color: #E8F0FE;\n",
              "      border: none;\n",
              "      border-radius: 50%;\n",
              "      cursor: pointer;\n",
              "      display: none;\n",
              "      fill: #1967D2;\n",
              "      height: 32px;\n",
              "      padding: 0 0 0 0;\n",
              "      width: 32px;\n",
              "    }\n",
              "\n",
              "    .colab-df-convert:hover {\n",
              "      background-color: #E2EBFA;\n",
              "      box-shadow: 0px 1px 2px rgba(60, 64, 67, 0.3), 0px 1px 3px 1px rgba(60, 64, 67, 0.15);\n",
              "      fill: #174EA6;\n",
              "    }\n",
              "\n",
              "    [theme=dark] .colab-df-convert {\n",
              "      background-color: #3B4455;\n",
              "      fill: #D2E3FC;\n",
              "    }\n",
              "\n",
              "    [theme=dark] .colab-df-convert:hover {\n",
              "      background-color: #434B5C;\n",
              "      box-shadow: 0px 1px 3px 1px rgba(0, 0, 0, 0.15);\n",
              "      filter: drop-shadow(0px 1px 2px rgba(0, 0, 0, 0.3));\n",
              "      fill: #FFFFFF;\n",
              "    }\n",
              "  </style>\n",
              "\n",
              "      <script>\n",
              "        const buttonEl =\n",
              "          document.querySelector('#df-d7eceb3f-1175-450a-b001-8d001b613d73 button.colab-df-convert');\n",
              "        buttonEl.style.display =\n",
              "          google.colab.kernel.accessAllowed ? 'block' : 'none';\n",
              "\n",
              "        async function convertToInteractive(key) {\n",
              "          const element = document.querySelector('#df-d7eceb3f-1175-450a-b001-8d001b613d73');\n",
              "          const dataTable =\n",
              "            await google.colab.kernel.invokeFunction('convertToInteractive',\n",
              "                                                     [key], {});\n",
              "          if (!dataTable) return;\n",
              "\n",
              "          const docLinkHtml = 'Like what you see? Visit the ' +\n",
              "            '<a target=\"_blank\" href=https://colab.research.google.com/notebooks/data_table.ipynb>data table notebook</a>'\n",
              "            + ' to learn more about interactive tables.';\n",
              "          element.innerHTML = '';\n",
              "          dataTable['output_type'] = 'display_data';\n",
              "          await google.colab.output.renderOutput(dataTable, element);\n",
              "          const docLink = document.createElement('div');\n",
              "          docLink.innerHTML = docLinkHtml;\n",
              "          element.appendChild(docLink);\n",
              "        }\n",
              "      </script>\n",
              "    </div>\n",
              "  </div>\n",
              "  "
            ]
          },
          "metadata": {},
          "execution_count": 10
        }
      ],
      "source": [
        "df.describe()"
      ]
    },
    {
      "cell_type": "code",
      "execution_count": 11,
      "metadata": {
        "colab": {
          "base_uri": "https://localhost:8080/"
        },
        "id": "MQvglLT4v-Bd",
        "outputId": "7ed82c73-8971-469c-a3e8-618879b1f54d"
      },
      "outputs": [
        {
          "output_type": "stream",
          "name": "stdout",
          "text": [
            "(4463, 1)\n"
          ]
        }
      ],
      "source": [
        "print(df.shape)"
      ]
    },
    {
      "cell_type": "code",
      "execution_count": 13,
      "metadata": {
        "colab": {
          "base_uri": "https://localhost:8080/",
          "height": 537
        },
        "id": "bVzfpAUHCMhy",
        "outputId": "d12322dd-b628-4bb4-f986-137c608b2010"
      },
      "outputs": [
        {
          "output_type": "error",
          "ename": "KeyError",
          "evalue": "ignored",
          "traceback": [
            "\u001b[0;31m---------------------------------------------------------------------------\u001b[0m",
            "\u001b[0;31mKeyError\u001b[0m                                  Traceback (most recent call last)",
            "\u001b[0;32m/usr/local/lib/python3.9/dist-packages/pandas/core/indexes/base.py\u001b[0m in \u001b[0;36mget_loc\u001b[0;34m(self, key, method, tolerance)\u001b[0m\n\u001b[1;32m   3360\u001b[0m             \u001b[0;32mtry\u001b[0m\u001b[0;34m:\u001b[0m\u001b[0;34m\u001b[0m\u001b[0;34m\u001b[0m\u001b[0m\n\u001b[0;32m-> 3361\u001b[0;31m                 \u001b[0;32mreturn\u001b[0m \u001b[0mself\u001b[0m\u001b[0;34m.\u001b[0m\u001b[0m_engine\u001b[0m\u001b[0;34m.\u001b[0m\u001b[0mget_loc\u001b[0m\u001b[0;34m(\u001b[0m\u001b[0mcasted_key\u001b[0m\u001b[0;34m)\u001b[0m\u001b[0;34m\u001b[0m\u001b[0;34m\u001b[0m\u001b[0m\n\u001b[0m\u001b[1;32m   3362\u001b[0m             \u001b[0;32mexcept\u001b[0m \u001b[0mKeyError\u001b[0m \u001b[0;32mas\u001b[0m \u001b[0merr\u001b[0m\u001b[0;34m:\u001b[0m\u001b[0;34m\u001b[0m\u001b[0;34m\u001b[0m\u001b[0m\n",
            "\u001b[0;32m/usr/local/lib/python3.9/dist-packages/pandas/_libs/index.pyx\u001b[0m in \u001b[0;36mpandas._libs.index.IndexEngine.get_loc\u001b[0;34m()\u001b[0m\n",
            "\u001b[0;32m/usr/local/lib/python3.9/dist-packages/pandas/_libs/index.pyx\u001b[0m in \u001b[0;36mpandas._libs.index.IndexEngine.get_loc\u001b[0;34m()\u001b[0m\n",
            "\u001b[0;32mpandas/_libs/hashtable_class_helper.pxi\u001b[0m in \u001b[0;36mpandas._libs.hashtable.PyObjectHashTable.get_item\u001b[0;34m()\u001b[0m\n",
            "\u001b[0;32mpandas/_libs/hashtable_class_helper.pxi\u001b[0m in \u001b[0;36mpandas._libs.hashtable.PyObjectHashTable.get_item\u001b[0;34m()\u001b[0m\n",
            "\u001b[0;31mKeyError\u001b[0m: 'Close'",
            "\nThe above exception was the direct cause of the following exception:\n",
            "\u001b[0;31mKeyError\u001b[0m                                  Traceback (most recent call last)",
            "\u001b[0;32m<ipython-input-13-8274864c24b8>\u001b[0m in \u001b[0;36m<module>\u001b[0;34m\u001b[0m\n\u001b[1;32m      1\u001b[0m \u001b[0mplt\u001b[0m\u001b[0;34m.\u001b[0m\u001b[0mfigure\u001b[0m\u001b[0;34m(\u001b[0m\u001b[0mfigsize\u001b[0m\u001b[0;34m=\u001b[0m\u001b[0;34m(\u001b[0m\u001b[0;36m10\u001b[0m\u001b[0;34m,\u001b[0m \u001b[0;36m5\u001b[0m\u001b[0;34m)\u001b[0m\u001b[0;34m)\u001b[0m\u001b[0;34m\u001b[0m\u001b[0;34m\u001b[0m\u001b[0m\n\u001b[1;32m      2\u001b[0m \u001b[0;31m#df['Open'].plot()\u001b[0m\u001b[0;34m\u001b[0m\u001b[0;34m\u001b[0m\u001b[0m\n\u001b[0;32m----> 3\u001b[0;31m \u001b[0mdf\u001b[0m\u001b[0;34m[\u001b[0m\u001b[0;34m'Close'\u001b[0m\u001b[0;34m]\u001b[0m\u001b[0;34m.\u001b[0m\u001b[0mplot\u001b[0m\u001b[0;34m(\u001b[0m\u001b[0;34m)\u001b[0m\u001b[0;34m\u001b[0m\u001b[0;34m\u001b[0m\u001b[0m\n\u001b[0m\u001b[1;32m      4\u001b[0m \u001b[0mplt\u001b[0m\u001b[0;34m.\u001b[0m\u001b[0mylabel\u001b[0m\u001b[0;34m(\u001b[0m\u001b[0;32mNone\u001b[0m\u001b[0;34m)\u001b[0m\u001b[0;34m\u001b[0m\u001b[0;34m\u001b[0m\u001b[0m\n\u001b[1;32m      5\u001b[0m \u001b[0mplt\u001b[0m\u001b[0;34m.\u001b[0m\u001b[0mxlabel\u001b[0m\u001b[0;34m(\u001b[0m\u001b[0;32mNone\u001b[0m\u001b[0;34m)\u001b[0m\u001b[0;34m\u001b[0m\u001b[0;34m\u001b[0m\u001b[0m\n",
            "\u001b[0;32m/usr/local/lib/python3.9/dist-packages/pandas/core/frame.py\u001b[0m in \u001b[0;36m__getitem__\u001b[0;34m(self, key)\u001b[0m\n\u001b[1;32m   3456\u001b[0m             \u001b[0;32mif\u001b[0m \u001b[0mself\u001b[0m\u001b[0;34m.\u001b[0m\u001b[0mcolumns\u001b[0m\u001b[0;34m.\u001b[0m\u001b[0mnlevels\u001b[0m \u001b[0;34m>\u001b[0m \u001b[0;36m1\u001b[0m\u001b[0;34m:\u001b[0m\u001b[0;34m\u001b[0m\u001b[0;34m\u001b[0m\u001b[0m\n\u001b[1;32m   3457\u001b[0m                 \u001b[0;32mreturn\u001b[0m \u001b[0mself\u001b[0m\u001b[0;34m.\u001b[0m\u001b[0m_getitem_multilevel\u001b[0m\u001b[0;34m(\u001b[0m\u001b[0mkey\u001b[0m\u001b[0;34m)\u001b[0m\u001b[0;34m\u001b[0m\u001b[0;34m\u001b[0m\u001b[0m\n\u001b[0;32m-> 3458\u001b[0;31m             \u001b[0mindexer\u001b[0m \u001b[0;34m=\u001b[0m \u001b[0mself\u001b[0m\u001b[0;34m.\u001b[0m\u001b[0mcolumns\u001b[0m\u001b[0;34m.\u001b[0m\u001b[0mget_loc\u001b[0m\u001b[0;34m(\u001b[0m\u001b[0mkey\u001b[0m\u001b[0;34m)\u001b[0m\u001b[0;34m\u001b[0m\u001b[0;34m\u001b[0m\u001b[0m\n\u001b[0m\u001b[1;32m   3459\u001b[0m             \u001b[0;32mif\u001b[0m \u001b[0mis_integer\u001b[0m\u001b[0;34m(\u001b[0m\u001b[0mindexer\u001b[0m\u001b[0;34m)\u001b[0m\u001b[0;34m:\u001b[0m\u001b[0;34m\u001b[0m\u001b[0;34m\u001b[0m\u001b[0m\n\u001b[1;32m   3460\u001b[0m                 \u001b[0mindexer\u001b[0m \u001b[0;34m=\u001b[0m \u001b[0;34m[\u001b[0m\u001b[0mindexer\u001b[0m\u001b[0;34m]\u001b[0m\u001b[0;34m\u001b[0m\u001b[0;34m\u001b[0m\u001b[0m\n",
            "\u001b[0;32m/usr/local/lib/python3.9/dist-packages/pandas/core/indexes/base.py\u001b[0m in \u001b[0;36mget_loc\u001b[0;34m(self, key, method, tolerance)\u001b[0m\n\u001b[1;32m   3361\u001b[0m                 \u001b[0;32mreturn\u001b[0m \u001b[0mself\u001b[0m\u001b[0;34m.\u001b[0m\u001b[0m_engine\u001b[0m\u001b[0;34m.\u001b[0m\u001b[0mget_loc\u001b[0m\u001b[0;34m(\u001b[0m\u001b[0mcasted_key\u001b[0m\u001b[0;34m)\u001b[0m\u001b[0;34m\u001b[0m\u001b[0;34m\u001b[0m\u001b[0m\n\u001b[1;32m   3362\u001b[0m             \u001b[0;32mexcept\u001b[0m \u001b[0mKeyError\u001b[0m \u001b[0;32mas\u001b[0m \u001b[0merr\u001b[0m\u001b[0;34m:\u001b[0m\u001b[0;34m\u001b[0m\u001b[0;34m\u001b[0m\u001b[0m\n\u001b[0;32m-> 3363\u001b[0;31m                 \u001b[0;32mraise\u001b[0m \u001b[0mKeyError\u001b[0m\u001b[0;34m(\u001b[0m\u001b[0mkey\u001b[0m\u001b[0;34m)\u001b[0m \u001b[0;32mfrom\u001b[0m \u001b[0merr\u001b[0m\u001b[0;34m\u001b[0m\u001b[0;34m\u001b[0m\u001b[0m\n\u001b[0m\u001b[1;32m   3364\u001b[0m \u001b[0;34m\u001b[0m\u001b[0m\n\u001b[1;32m   3365\u001b[0m         \u001b[0;32mif\u001b[0m \u001b[0mis_scalar\u001b[0m\u001b[0;34m(\u001b[0m\u001b[0mkey\u001b[0m\u001b[0;34m)\u001b[0m \u001b[0;32mand\u001b[0m \u001b[0misna\u001b[0m\u001b[0;34m(\u001b[0m\u001b[0mkey\u001b[0m\u001b[0;34m)\u001b[0m \u001b[0;32mand\u001b[0m \u001b[0;32mnot\u001b[0m \u001b[0mself\u001b[0m\u001b[0;34m.\u001b[0m\u001b[0mhasnans\u001b[0m\u001b[0;34m:\u001b[0m\u001b[0;34m\u001b[0m\u001b[0;34m\u001b[0m\u001b[0m\n",
            "\u001b[0;31mKeyError\u001b[0m: 'Close'"
          ]
        },
        {
          "output_type": "display_data",
          "data": {
            "text/plain": [
              "<Figure size 720x360 with 0 Axes>"
            ]
          },
          "metadata": {}
        }
      ],
      "source": [
        "plt.figure(figsize=(10, 5))\n",
        "df['Open'].plot()\n",
        "df['Close'].plot()\n",
        "plt.ylabel(None)\n",
        "plt.xlabel(None)\n",
        "plt.title(\"OPEN AND CLOSE PRICE \")\n",
        "plt.legend(['OPEN ', 'CLOSE'])\n",
        "plt.tight_layout()\n",
        "plt.show()"
      ]
    },
    {
      "cell_type": "markdown",
      "metadata": {
        "id": "oXutI2MNxPGl"
      },
      "source": [
        "TAKING CLOSE VALUES"
      ]
    },
    {
      "cell_type": "code",
      "execution_count": 7,
      "metadata": {
        "id": "R-xmDfFgwasc"
      },
      "outputs": [],
      "source": [
        "close=df.reset_index()['close']"
      ]
    },
    {
      "cell_type": "code",
      "execution_count": 8,
      "metadata": {
        "id": "KmZk1R7eysJF"
      },
      "outputs": [],
      "source": [
        "\n",
        "scaler=MinMaxScaler(feature_range=(0,1))\n",
        "scaled_data=scaler.fit_transform(np.array(close).reshape(-1,1))"
      ]
    },
    {
      "cell_type": "code",
      "execution_count": 16,
      "metadata": {
        "colab": {
          "base_uri": "https://localhost:8080/",
          "height": 300
        },
        "id": "IqsAwiJA62Yp",
        "outputId": "832fb88d-0d5b-4dd2-f5cd-0cdb6f81d494"
      },
      "outputs": [
        {
          "output_type": "execute_result",
          "data": {
            "text/plain": [
              "[<matplotlib.lines.Line2D at 0x7fcf879ec3a0>]"
            ]
          },
          "metadata": {},
          "execution_count": 16
        },
        {
          "output_type": "display_data",
          "data": {
            "text/plain": [
              "<Figure size 432x288 with 1 Axes>"
            ],
            "image/png": "[encoded data removed]"
          },
          "metadata": {}
        }
      ],
      "source": [
        "plt.plot(close)\n"
      ]
    },
    {
      "cell_type": "markdown",
      "metadata": {
        "id": "8FpZOsLL0HwN"
      },
      "source": [
        "TEST AND TRAIN DATASET(CLOSE)\n"
      ]
    },
    {
      "cell_type": "code",
      "execution_count": 9,
      "metadata": {
        "id": "ZKXcvJZl0Llq"
      },
      "outputs": [],
      "source": [
        "train_size=int(len(close)*0.75)\n",
        "test_size=len(close)-train_size\n"
      ]
    },
    {
      "cell_type": "code",
      "execution_count": 18,
      "metadata": {
        "colab": {
          "base_uri": "https://localhost:8080/"
        },
        "id": "JDp-J9Y_GrMg",
        "outputId": "58e0b1a1-64de-4707-f3b2-77951f764645"
      },
      "outputs": [
        {
          "output_type": "stream",
          "name": "stdout",
          "text": [
            "TRAIN SIZE :  3347 TEST SIZE :  1116\n"
          ]
        }
      ],
      "source": [
        "print(\"TRAIN SIZE : \",train_size, \"TEST SIZE : \",test_size)"
      ]
    },
    {
      "cell_type": "code",
      "execution_count": 10,
      "metadata": {
        "id": "Cx1djNQlD20t"
      },
      "outputs": [],
      "source": [
        "train_data = scaled_data[ :train_size , 0:1 ]\n",
        "test_data = scaled_data[ train_size-60: , 0:1 ]"
      ]
    },
    {
      "cell_type": "code",
      "execution_count": 20,
      "metadata": {
        "colab": {
          "base_uri": "https://localhost:8080/"
        },
        "id": "LzsfuXeMD9S7",
        "outputId": "7bbd442f-4985-4ae6-bdf0-0b6da0c99de8"
      },
      "outputs": [
        {
          "output_type": "stream",
          "name": "stdout",
          "text": [
            "TRAIN DATA :  (3347, 1) TEST DATA :  (1176, 1)\n"
          ]
        }
      ],
      "source": [
        "print(\"TRAIN DATA : \",train_data.shape, \"TEST DATA : \",test_data.shape)"
      ]
    },
    {
      "cell_type": "code",
      "execution_count": 11,
      "metadata": {
        "id": "WjutHsT224Kr"
      },
      "outputs": [],
      "source": [
        "x_train = []\n",
        "y_train = []\n",
        "\n",
        "for i in range(60, len(train_data)):\n",
        "    x_train.append(train_data[i-60:i, 0])\n",
        "    y_train.append(train_data[i, 0])\n",
        "x_train, y_train = np.array(x_train), np.array(y_train)\n",
        "x_train = np.reshape(x_train, (x_train.shape[0], x_train.shape[1], 1))\n",
        "\n"
      ]
    },
    {
      "cell_type": "markdown",
      "metadata": {
        "id": "Tju7FOUb4cBV"
      },
      "source": [
        "RESHAPE DATA TO FIT INTO MODEL"
      ]
    },
    {
      "cell_type": "code",
      "execution_count": 22,
      "metadata": {
        "colab": {
          "base_uri": "https://localhost:8080/"
        },
        "id": "IJYRxYLF4Yza",
        "outputId": "e1103080-dc11-4f9e-c988-ba7d2876ac39"
      },
      "outputs": [
        {
          "output_type": "execute_result",
          "data": {
            "text/plain": [
              "((3287, 60, 1), (3287,))"
            ]
          },
          "metadata": {},
          "execution_count": 22
        }
      ],
      "source": [
        "x_train.shape , y_train.shape"
      ]
    },
    {
      "cell_type": "markdown",
      "metadata": {
        "id": "6tQjtB_Vk0FU"
      },
      "source": [
        "LSTM MODEL "
      ]
    },
    {
      "cell_type": "code",
      "execution_count": 12,
      "metadata": {
        "id": "SVkK48AEej5t"
      },
      "outputs": [],
      "source": [
        "model = Sequential()\n",
        "model.add(LSTM(units = 100, return_sequences = True, input_shape = (x_train.shape[1], 1)))\n",
        "model.add(Dropout(0.2))\n",
        "model.add(LSTM(units = 100, return_sequences = True))\n",
        "model.add(Dropout(0.2))\n",
        "model.add(LSTM(units = 50, return_sequences = True))\n",
        "model.add(Dropout(0.2))\n",
        "model.add(LSTM(units = 25))\n",
        "model.add(Dropout(0.2))\n",
        "model.add(Dense(units = 1))"
      ]
    },
    {
      "cell_type": "code",
      "execution_count": 13,
      "metadata": {
        "colab": {
          "base_uri": "https://localhost:8080/"
        },
        "id": "mCF1mSXL_TM8",
        "outputId": "106871af-bcb6-401d-d2a3-c8b207e8b704"
      },
      "outputs": [
        {
          "output_type": "stream",
          "name": "stdout",
          "text": [
            "Model: \"sequential\"\n",
            "_________________________________________________________________\n",
            " Layer (type)                Output Shape              Param #   \n",
            "=================================================================\n",
            " lstm (LSTM)                 (None, 60, 100)           40800     \n",
            "                                                                 \n",
            " dropout (Dropout)           (None, 60, 100)           0         \n",
            "                                                                 \n",
            " lstm_1 (LSTM)               (None, 60, 100)           80400     \n",
            "                                                                 \n",
            " dropout_1 (Dropout)         (None, 60, 100)           0         \n",
            "                                                                 \n",
            " lstm_2 (LSTM)               (None, 60, 50)            30200     \n",
            "                                                                 \n",
            " dropout_2 (Dropout)         (None, 60, 50)            0         \n",
            "                                                                 \n",
            " lstm_3 (LSTM)               (None, 25)                7600      \n",
            "                                                                 \n",
            " dropout_3 (Dropout)         (None, 25)                0         \n",
            "                                                                 \n",
            " dense (Dense)               (None, 1)                 26        \n",
            "                                                                 \n",
            "=================================================================\n",
            "Total params: 159,026\n",
            "Trainable params: 159,026\n",
            "Non-trainable params: 0\n",
            "_________________________________________________________________\n"
          ]
        }
      ],
      "source": [
        "model.summary()"
      ]
    },
    {
      "cell_type": "markdown",
      "metadata": {
        "id": "QtAvgdd6k-UH"
      },
      "source": [
        "COMPILE AND FIT"
      ]
    },
    {
      "cell_type": "code",
      "execution_count": 14,
      "metadata": {
        "id": "lYZKUXUQI2Xn"
      },
      "outputs": [],
      "source": [
        "from keras.callbacks import EarlyStopping"
      ]
    },
    {
      "cell_type": "code",
      "execution_count": 15,
      "metadata": {
        "colab": {
          "base_uri": "https://localhost:8080/"
        },
        "id": "84U_XSmifAl5",
        "outputId": "d392a5e3-34b5-480c-ff03-44f704779a82"
      },
      "outputs": [
        {
          "output_type": "stream",
          "name": "stdout",
          "text": [
            "Epoch 1/150\n",
            "103/103 [==============================] - 14s 15ms/step - loss: 0.0012 - mean_absolute_error: 0.0197\n",
            "Epoch 2/150\n",
            "103/103 [==============================] - 1s 14ms/step - loss: 3.8005e-04 - mean_absolute_error: 0.0131\n",
            "Epoch 3/150\n",
            "103/103 [==============================] - 1s 13ms/step - loss: 3.5987e-04 - mean_absolute_error: 0.0126\n",
            "Epoch 4/150\n",
            "103/103 [==============================] - 1s 14ms/step - loss: 3.1244e-04 - mean_absolute_error: 0.0120\n",
            "Epoch 5/150\n",
            "103/103 [==============================] - 2s 18ms/step - loss: 2.9279e-04 - mean_absolute_error: 0.0116\n",
            "Epoch 6/150\n",
            "103/103 [==============================] - 1s 14ms/step - loss: 2.3891e-04 - mean_absolute_error: 0.0103\n",
            "Epoch 7/150\n",
            "103/103 [==============================] - 2s 16ms/step - loss: 2.4558e-04 - mean_absolute_error: 0.0108\n",
            "Epoch 8/150\n",
            "103/103 [==============================] - 2s 17ms/step - loss: 2.1985e-04 - mean_absolute_error: 0.0104\n",
            "Epoch 9/150\n",
            "103/103 [==============================] - 1s 13ms/step - loss: 1.9799e-04 - mean_absolute_error: 0.0098\n",
            "Epoch 10/150\n",
            "103/103 [==============================] - 1s 14ms/step - loss: 2.1469e-04 - mean_absolute_error: 0.0100\n",
            "Epoch 11/150\n",
            "103/103 [==============================] - 1s 13ms/step - loss: 2.2020e-04 - mean_absolute_error: 0.0104\n",
            "Epoch 12/150\n",
            "103/103 [==============================] - 1s 13ms/step - loss: 1.8168e-04 - mean_absolute_error: 0.0093\n",
            "Epoch 13/150\n",
            "103/103 [==============================] - 1s 13ms/step - loss: 1.9984e-04 - mean_absolute_error: 0.0101\n",
            "Epoch 14/150\n",
            "103/103 [==============================] - 2s 21ms/step - loss: 1.9423e-04 - mean_absolute_error: 0.0100\n",
            "Epoch 15/150\n",
            "103/103 [==============================] - 2s 16ms/step - loss: 1.7604e-04 - mean_absolute_error: 0.0095\n",
            "Epoch 16/150\n",
            "103/103 [==============================] - 2s 17ms/step - loss: 1.9052e-04 - mean_absolute_error: 0.0099\n",
            "Epoch 17/150\n",
            "103/103 [==============================] - 1s 13ms/step - loss: 1.7302e-04 - mean_absolute_error: 0.0096\n",
            "Epoch 18/150\n",
            "103/103 [==============================] - 1s 13ms/step - loss: 1.7197e-04 - mean_absolute_error: 0.0096\n",
            "Epoch 19/150\n",
            "103/103 [==============================] - 1s 13ms/step - loss: 1.9232e-04 - mean_absolute_error: 0.0100\n",
            "Epoch 20/150\n",
            "103/103 [==============================] - 1s 13ms/step - loss: 1.8103e-04 - mean_absolute_error: 0.0100\n",
            "Epoch 21/150\n",
            "103/103 [==============================] - 1s 13ms/step - loss: 1.7418e-04 - mean_absolute_error: 0.0095\n",
            "Epoch 22/150\n",
            "103/103 [==============================] - 1s 14ms/step - loss: 1.5736e-04 - mean_absolute_error: 0.0092\n",
            "Epoch 23/150\n",
            "103/103 [==============================] - 1s 14ms/step - loss: 1.9033e-04 - mean_absolute_error: 0.0101\n",
            "Epoch 24/150\n",
            "103/103 [==============================] - 2s 19ms/step - loss: 1.6901e-04 - mean_absolute_error: 0.0096\n",
            "Epoch 25/150\n",
            "103/103 [==============================] - 1s 14ms/step - loss: 2.0096e-04 - mean_absolute_error: 0.0104\n",
            "Epoch 26/150\n",
            "103/103 [==============================] - 1s 13ms/step - loss: 1.6855e-04 - mean_absolute_error: 0.0095\n",
            "Epoch 27/150\n",
            "103/103 [==============================] - 1s 13ms/step - loss: 1.6949e-04 - mean_absolute_error: 0.0096\n",
            "Epoch 28/150\n",
            "103/103 [==============================] - 1s 13ms/step - loss: 1.6896e-04 - mean_absolute_error: 0.0096\n",
            "Epoch 29/150\n",
            "103/103 [==============================] - 1s 13ms/step - loss: 1.6244e-04 - mean_absolute_error: 0.0093\n",
            "Epoch 30/150\n",
            "103/103 [==============================] - 1s 13ms/step - loss: 1.6677e-04 - mean_absolute_error: 0.0094\n",
            "Epoch 31/150\n",
            "103/103 [==============================] - 1s 13ms/step - loss: 1.6820e-04 - mean_absolute_error: 0.0095\n",
            "Epoch 32/150\n",
            "103/103 [==============================] - 2s 16ms/step - loss: 1.7177e-04 - mean_absolute_error: 0.0097\n",
            "Epoch 33/150\n",
            "103/103 [==============================] - 2s 17ms/step - loss: 1.8953e-04 - mean_absolute_error: 0.0098\n",
            "Epoch 34/150\n",
            "103/103 [==============================] - 1s 13ms/step - loss: 1.5967e-04 - mean_absolute_error: 0.0092\n",
            "Epoch 35/150\n",
            "103/103 [==============================] - 1s 14ms/step - loss: 1.7888e-04 - mean_absolute_error: 0.0100\n",
            "Epoch 36/150\n",
            "103/103 [==============================] - 1s 14ms/step - loss: 1.5702e-04 - mean_absolute_error: 0.0092\n",
            "Epoch 37/150\n",
            "103/103 [==============================] - 1s 14ms/step - loss: 1.5549e-04 - mean_absolute_error: 0.0091\n",
            "Epoch 38/150\n",
            "103/103 [==============================] - 1s 14ms/step - loss: 1.8011e-04 - mean_absolute_error: 0.0098\n",
            "Epoch 39/150\n",
            "103/103 [==============================] - 2s 18ms/step - loss: 1.5043e-04 - mean_absolute_error: 0.0091\n",
            "Epoch 40/150\n",
            "103/103 [==============================] - 2s 20ms/step - loss: 1.6480e-04 - mean_absolute_error: 0.0094\n",
            "Epoch 41/150\n",
            "103/103 [==============================] - 2s 17ms/step - loss: 1.5163e-04 - mean_absolute_error: 0.0090\n",
            "Epoch 42/150\n",
            "103/103 [==============================] - 1s 14ms/step - loss: 1.4782e-04 - mean_absolute_error: 0.0088\n",
            "Epoch 43/150\n",
            "103/103 [==============================] - 1s 14ms/step - loss: 1.5602e-04 - mean_absolute_error: 0.0092\n",
            "Epoch 44/150\n",
            "103/103 [==============================] - 1s 14ms/step - loss: 1.5117e-04 - mean_absolute_error: 0.0089\n",
            "Epoch 45/150\n",
            "103/103 [==============================] - 1s 13ms/step - loss: 1.6880e-04 - mean_absolute_error: 0.0093\n",
            "Epoch 46/150\n",
            "103/103 [==============================] - 1s 13ms/step - loss: 1.5714e-04 - mean_absolute_error: 0.0092\n",
            "Epoch 47/150\n",
            "103/103 [==============================] - 1s 13ms/step - loss: 1.9187e-04 - mean_absolute_error: 0.0102\n",
            "Epoch 48/150\n",
            "103/103 [==============================] - 2s 15ms/step - loss: 1.6496e-04 - mean_absolute_error: 0.0094\n",
            "Epoch 49/150\n",
            "103/103 [==============================] - 2s 18ms/step - loss: 1.5862e-04 - mean_absolute_error: 0.0092\n",
            "Epoch 50/150\n",
            "103/103 [==============================] - 1s 14ms/step - loss: 1.6363e-04 - mean_absolute_error: 0.0092\n",
            "Epoch 51/150\n",
            "103/103 [==============================] - 1s 14ms/step - loss: 1.6850e-04 - mean_absolute_error: 0.0095\n",
            "Epoch 52/150\n",
            "103/103 [==============================] - 1s 13ms/step - loss: 1.4963e-04 - mean_absolute_error: 0.0089\n",
            "Epoch 53/150\n",
            "103/103 [==============================] - 1s 13ms/step - loss: 1.5950e-04 - mean_absolute_error: 0.0091\n",
            "Epoch 54/150\n",
            "103/103 [==============================] - 1s 13ms/step - loss: 1.5886e-04 - mean_absolute_error: 0.0093\n",
            "Epoch 55/150\n",
            "103/103 [==============================] - 1s 14ms/step - loss: 1.5846e-04 - mean_absolute_error: 0.0091\n",
            "Epoch 56/150\n",
            "103/103 [==============================] - 1s 13ms/step - loss: 1.4311e-04 - mean_absolute_error: 0.0087\n",
            "Epoch 57/150\n",
            "103/103 [==============================] - 2s 18ms/step - loss: 1.3474e-04 - mean_absolute_error: 0.0084\n",
            "Epoch 58/150\n",
            "103/103 [==============================] - 2s 15ms/step - loss: 1.5779e-04 - mean_absolute_error: 0.0091\n",
            "Epoch 59/150\n",
            "103/103 [==============================] - 1s 13ms/step - loss: 1.6698e-04 - mean_absolute_error: 0.0096\n",
            "Epoch 60/150\n",
            "103/103 [==============================] - 1s 13ms/step - loss: 1.4346e-04 - mean_absolute_error: 0.0086\n",
            "Epoch 61/150\n",
            "103/103 [==============================] - 1s 13ms/step - loss: 1.4735e-04 - mean_absolute_error: 0.0088\n",
            "Epoch 62/150\n",
            "103/103 [==============================] - 1s 13ms/step - loss: 1.5922e-04 - mean_absolute_error: 0.0091\n",
            "Epoch 63/150\n",
            "103/103 [==============================] - 1s 14ms/step - loss: 1.4909e-04 - mean_absolute_error: 0.0090\n",
            "Epoch 64/150\n",
            "103/103 [==============================] - 1s 14ms/step - loss: 1.7329e-04 - mean_absolute_error: 0.0095\n",
            "Epoch 65/150\n",
            "103/103 [==============================] - 2s 16ms/step - loss: 1.6570e-04 - mean_absolute_error: 0.0094\n",
            "Epoch 66/150\n",
            "103/103 [==============================] - 2s 17ms/step - loss: 1.4866e-04 - mean_absolute_error: 0.0090\n",
            "Epoch 67/150\n",
            "103/103 [==============================] - 1s 13ms/step - loss: 1.5619e-04 - mean_absolute_error: 0.0091\n",
            "Epoch 68/150\n",
            "103/103 [==============================] - 1s 13ms/step - loss: 1.4031e-04 - mean_absolute_error: 0.0087\n",
            "Epoch 69/150\n",
            "103/103 [==============================] - 1s 13ms/step - loss: 1.6275e-04 - mean_absolute_error: 0.0093\n",
            "Epoch 70/150\n",
            "103/103 [==============================] - 1s 13ms/step - loss: 1.4673e-04 - mean_absolute_error: 0.0087\n",
            "Epoch 71/150\n",
            "103/103 [==============================] - 1s 13ms/step - loss: 1.5270e-04 - mean_absolute_error: 0.0091\n",
            "Epoch 72/150\n",
            "103/103 [==============================] - 1s 14ms/step - loss: 1.6230e-04 - mean_absolute_error: 0.0091\n",
            "Epoch 73/150\n",
            "103/103 [==============================] - 1s 14ms/step - loss: 1.4181e-04 - mean_absolute_error: 0.0087\n",
            "Epoch 74/150\n",
            "103/103 [==============================] - 2s 22ms/step - loss: 1.5481e-04 - mean_absolute_error: 0.0090\n",
            "Epoch 75/150\n",
            "103/103 [==============================] - 2s 20ms/step - loss: 1.3431e-04 - mean_absolute_error: 0.0084\n",
            "Epoch 76/150\n",
            "103/103 [==============================] - 1s 13ms/step - loss: 1.4033e-04 - mean_absolute_error: 0.0086\n",
            "Epoch 77/150\n",
            "103/103 [==============================] - 1s 14ms/step - loss: 1.5405e-04 - mean_absolute_error: 0.0091\n",
            "Epoch 78/150\n",
            "103/103 [==============================] - 1s 13ms/step - loss: 1.5395e-04 - mean_absolute_error: 0.0090\n",
            "Epoch 79/150\n",
            "103/103 [==============================] - 1s 13ms/step - loss: 1.4265e-04 - mean_absolute_error: 0.0086\n",
            "Epoch 80/150\n",
            "103/103 [==============================] - 1s 13ms/step - loss: 1.4954e-04 - mean_absolute_error: 0.0088\n",
            "Epoch 81/150\n",
            "103/103 [==============================] - 1s 13ms/step - loss: 1.4700e-04 - mean_absolute_error: 0.0089\n",
            "Epoch 82/150\n",
            "103/103 [==============================] - 2s 15ms/step - loss: 1.4076e-04 - mean_absolute_error: 0.0086\n",
            "Epoch 83/150\n",
            "103/103 [==============================] - 2s 19ms/step - loss: 1.3723e-04 - mean_absolute_error: 0.0086\n",
            "Epoch 84/150\n",
            "103/103 [==============================] - 1s 13ms/step - loss: 1.4445e-04 - mean_absolute_error: 0.0088\n",
            "Epoch 85/150\n",
            "103/103 [==============================] - 1s 14ms/step - loss: 1.4623e-04 - mean_absolute_error: 0.0086\n",
            "Epoch 86/150\n",
            "103/103 [==============================] - 1s 14ms/step - loss: 1.4584e-04 - mean_absolute_error: 0.0086\n",
            "Epoch 87/150\n",
            "103/103 [==============================] - 1s 13ms/step - loss: 1.5082e-04 - mean_absolute_error: 0.0089\n",
            "Epoch 88/150\n",
            "103/103 [==============================] - 1s 13ms/step - loss: 1.3467e-04 - mean_absolute_error: 0.0084\n",
            "Epoch 89/150\n",
            "103/103 [==============================] - 1s 13ms/step - loss: 1.3761e-04 - mean_absolute_error: 0.0085\n",
            "Epoch 90/150\n",
            "103/103 [==============================] - 1s 14ms/step - loss: 1.3049e-04 - mean_absolute_error: 0.0083\n",
            "Epoch 91/150\n",
            "103/103 [==============================] - 2s 18ms/step - loss: 1.4355e-04 - mean_absolute_error: 0.0087\n",
            "Epoch 92/150\n",
            "103/103 [==============================] - 2s 15ms/step - loss: 1.5153e-04 - mean_absolute_error: 0.0088\n",
            "Epoch 93/150\n",
            "103/103 [==============================] - 1s 14ms/step - loss: 1.6081e-04 - mean_absolute_error: 0.0093\n",
            "Epoch 94/150\n",
            "103/103 [==============================] - 1s 14ms/step - loss: 1.4031e-04 - mean_absolute_error: 0.0087\n",
            "Epoch 95/150\n",
            "103/103 [==============================] - 1s 14ms/step - loss: 1.5098e-04 - mean_absolute_error: 0.0090\n",
            "Epoch 96/150\n",
            "103/103 [==============================] - 1s 13ms/step - loss: 1.4693e-04 - mean_absolute_error: 0.0089\n",
            "Epoch 97/150\n",
            "103/103 [==============================] - 1s 14ms/step - loss: 1.3920e-04 - mean_absolute_error: 0.0085\n",
            "Epoch 98/150\n",
            "103/103 [==============================] - 1s 14ms/step - loss: 1.5818e-04 - mean_absolute_error: 0.0091\n",
            "Epoch 99/150\n",
            "103/103 [==============================] - 2s 17ms/step - loss: 1.4280e-04 - mean_absolute_error: 0.0085\n",
            "Epoch 100/150\n",
            "103/103 [==============================] - 2s 15ms/step - loss: 1.4322e-04 - mean_absolute_error: 0.0087\n",
            "Epoch 101/150\n",
            "103/103 [==============================] - 1s 13ms/step - loss: 1.2680e-04 - mean_absolute_error: 0.0082\n",
            "Epoch 102/150\n",
            "103/103 [==============================] - 1s 13ms/step - loss: 1.4433e-04 - mean_absolute_error: 0.0090\n",
            "Epoch 103/150\n",
            "103/103 [==============================] - 1s 13ms/step - loss: 1.4606e-04 - mean_absolute_error: 0.0087\n",
            "Epoch 104/150\n",
            "103/103 [==============================] - 1s 14ms/step - loss: 1.4091e-04 - mean_absolute_error: 0.0085\n",
            "Epoch 105/150\n",
            "103/103 [==============================] - 1s 14ms/step - loss: 1.3442e-04 - mean_absolute_error: 0.0084\n",
            "Epoch 106/150\n",
            "103/103 [==============================] - 1s 14ms/step - loss: 1.4396e-04 - mean_absolute_error: 0.0086\n",
            "Epoch 107/150\n",
            "103/103 [==============================] - 2s 16ms/step - loss: 1.3651e-04 - mean_absolute_error: 0.0084\n",
            "Epoch 108/150\n",
            "103/103 [==============================] - 2s 20ms/step - loss: 1.4845e-04 - mean_absolute_error: 0.0089\n",
            "Epoch 109/150\n",
            "103/103 [==============================] - 2s 18ms/step - loss: 1.2983e-04 - mean_absolute_error: 0.0082\n",
            "Epoch 110/150\n",
            "103/103 [==============================] - 1s 14ms/step - loss: 1.4300e-04 - mean_absolute_error: 0.0087\n",
            "Epoch 111/150\n",
            "103/103 [==============================] - 1s 14ms/step - loss: 1.3362e-04 - mean_absolute_error: 0.0084\n",
            "Epoch 112/150\n",
            "103/103 [==============================] - 1s 14ms/step - loss: 1.3002e-04 - mean_absolute_error: 0.0082\n",
            "Epoch 113/150\n",
            "103/103 [==============================] - 1s 13ms/step - loss: 1.4724e-04 - mean_absolute_error: 0.0089\n",
            "Epoch 114/150\n",
            "103/103 [==============================] - 1s 13ms/step - loss: 1.3718e-04 - mean_absolute_error: 0.0084\n",
            "Epoch 115/150\n",
            "103/103 [==============================] - 2s 15ms/step - loss: 1.3012e-04 - mean_absolute_error: 0.0083\n",
            "Epoch 116/150\n",
            "103/103 [==============================] - 2s 18ms/step - loss: 1.3896e-04 - mean_absolute_error: 0.0086\n",
            "Epoch 117/150\n",
            "103/103 [==============================] - 1s 14ms/step - loss: 1.4477e-04 - mean_absolute_error: 0.0088\n",
            "Epoch 118/150\n",
            "103/103 [==============================] - 1s 14ms/step - loss: 1.3649e-04 - mean_absolute_error: 0.0086\n",
            "Epoch 119/150\n",
            "103/103 [==============================] - 1s 14ms/step - loss: 1.4168e-04 - mean_absolute_error: 0.0086\n",
            "Epoch 120/150\n",
            "103/103 [==============================] - 1s 14ms/step - loss: 1.4147e-04 - mean_absolute_error: 0.0088\n",
            "Epoch 121/150\n",
            "103/103 [==============================] - 1s 14ms/step - loss: 1.3238e-04 - mean_absolute_error: 0.0082\n",
            "Epoch 122/150\n",
            "103/103 [==============================] - 1s 13ms/step - loss: 1.4334e-04 - mean_absolute_error: 0.0086\n",
            "Epoch 123/150\n",
            "103/103 [==============================] - 1s 14ms/step - loss: 1.3752e-04 - mean_absolute_error: 0.0086\n",
            "Epoch 124/150\n",
            "103/103 [==============================] - 2s 18ms/step - loss: 1.2999e-04 - mean_absolute_error: 0.0082\n",
            "Epoch 125/150\n",
            "103/103 [==============================] - 2s 15ms/step - loss: 1.3807e-04 - mean_absolute_error: 0.0086\n",
            "Epoch 126/150\n",
            "103/103 [==============================] - 1s 14ms/step - loss: 1.3168e-04 - mean_absolute_error: 0.0083\n",
            "Epoch 127/150\n",
            "103/103 [==============================] - 1s 13ms/step - loss: 1.3320e-04 - mean_absolute_error: 0.0083\n",
            "Epoch 128/150\n",
            "103/103 [==============================] - 1s 14ms/step - loss: 1.2665e-04 - mean_absolute_error: 0.0081\n",
            "Epoch 129/150\n",
            "103/103 [==============================] - 1s 14ms/step - loss: 1.2818e-04 - mean_absolute_error: 0.0082\n",
            "Epoch 130/150\n",
            "103/103 [==============================] - 1s 14ms/step - loss: 1.3363e-04 - mean_absolute_error: 0.0083\n",
            "Epoch 131/150\n",
            "103/103 [==============================] - 1s 14ms/step - loss: 1.3221e-04 - mean_absolute_error: 0.0083\n",
            "Epoch 132/150\n",
            "103/103 [==============================] - 2s 16ms/step - loss: 1.3787e-04 - mean_absolute_error: 0.0084\n",
            "Epoch 133/150\n",
            "103/103 [==============================] - 2s 17ms/step - loss: 1.3443e-04 - mean_absolute_error: 0.0084\n",
            "Epoch 134/150\n",
            "103/103 [==============================] - 1s 14ms/step - loss: 1.4085e-04 - mean_absolute_error: 0.0086\n",
            "Epoch 135/150\n",
            "103/103 [==============================] - 1s 14ms/step - loss: 1.4580e-04 - mean_absolute_error: 0.0086\n",
            "Epoch 136/150\n",
            "103/103 [==============================] - 1s 13ms/step - loss: 1.4495e-04 - mean_absolute_error: 0.0087\n",
            "Epoch 137/150\n",
            "103/103 [==============================] - 1s 14ms/step - loss: 1.6724e-04 - mean_absolute_error: 0.0093\n",
            "Epoch 138/150\n",
            "103/103 [==============================] - 1s 14ms/step - loss: 1.3383e-04 - mean_absolute_error: 0.0084\n",
            "Epoch 139/150\n",
            "103/103 [==============================] - 1s 14ms/step - loss: 1.3104e-04 - mean_absolute_error: 0.0083\n",
            "Epoch 140/150\n",
            "103/103 [==============================] - 2s 15ms/step - loss: 1.3761e-04 - mean_absolute_error: 0.0084\n",
            "Epoch 141/150\n",
            "103/103 [==============================] - 2s 18ms/step - loss: 1.4590e-04 - mean_absolute_error: 0.0086\n",
            "Epoch 142/150\n",
            "103/103 [==============================] - 2s 16ms/step - loss: 1.3674e-04 - mean_absolute_error: 0.0085\n",
            "Epoch 143/150\n",
            "103/103 [==============================] - 2s 19ms/step - loss: 1.3978e-04 - mean_absolute_error: 0.0086\n",
            "Epoch 144/150\n",
            "103/103 [==============================] - 1s 14ms/step - loss: 1.3280e-04 - mean_absolute_error: 0.0084\n",
            "Epoch 145/150\n",
            "103/103 [==============================] - 1s 14ms/step - loss: 1.2760e-04 - mean_absolute_error: 0.0081\n",
            "Epoch 146/150\n",
            "103/103 [==============================] - 1s 14ms/step - loss: 1.3582e-04 - mean_absolute_error: 0.0083\n",
            "Epoch 147/150\n",
            "103/103 [==============================] - 1s 14ms/step - loss: 1.3242e-04 - mean_absolute_error: 0.0083\n",
            "Epoch 148/150\n",
            "103/103 [==============================] - 2s 17ms/step - loss: 1.3164e-04 - mean_absolute_error: 0.0082\n",
            "Epoch 149/150\n",
            "103/103 [==============================] - 2s 17ms/step - loss: 1.3564e-04 - mean_absolute_error: 0.0084\n",
            "Epoch 150/150\n",
            "103/103 [==============================] - 1s 14ms/step - loss: 1.2540e-04 - mean_absolute_error: 0.0081\n"
          ]
        }
      ],
      "source": [
        "model.compile(optimizer = 'adam', loss = 'mean_squared_error',metrics=\"mean_absolute_error\")\n",
        "model.fit(x_train, y_train, epochs = 150, batch_size = 32,verbose=1);"
      ]
    },
    {
      "cell_type": "code",
      "execution_count": 18,
      "metadata": {
        "id": "RCL1kdrNKGtb"
      },
      "outputs": [],
      "source": [
        "import seaborn as sns\n",
        "sns.set_style('whitegrid')\n",
        "import matplotlib.pyplot as plt\n",
        "plt.style.use(\"fivethirtyeight\")"
      ]
    },
    {
      "cell_type": "code",
      "execution_count": 19,
      "metadata": {
        "colab": {
          "base_uri": "https://localhost:8080/",
          "height": 242
        },
        "id": "ZU9P5I2AJ9ka",
        "outputId": "a17c76ff-1b06-4617-c852-9a67894b3c1b"
      },
      "outputs": [
        {
          "output_type": "error",
          "ename": "NameError",
          "evalue": "ignored",
          "traceback": [
            "\u001b[0;31m---------------------------------------------------------------------------\u001b[0m",
            "\u001b[0;31mNameError\u001b[0m                                 Traceback (most recent call last)",
            "\u001b[0;32m<ipython-input-19-3b640a8efa64>\u001b[0m in \u001b[0;36m<module>\u001b[0;34m\u001b[0m\n\u001b[0;32m----> 1\u001b[0;31m \u001b[0mplt\u001b[0m\u001b[0;34m.\u001b[0m\u001b[0mplot\u001b[0m\u001b[0;34m(\u001b[0m\u001b[0mhistory\u001b[0m\u001b[0;34m.\u001b[0m\u001b[0mhistory\u001b[0m\u001b[0;34m[\u001b[0m\u001b[0;34m\"loss\"\u001b[0m\u001b[0;34m]\u001b[0m\u001b[0;34m)\u001b[0m\u001b[0;34m\u001b[0m\u001b[0;34m\u001b[0m\u001b[0m\n\u001b[0m\u001b[1;32m      2\u001b[0m \u001b[0mplt\u001b[0m\u001b[0;34m.\u001b[0m\u001b[0mplot\u001b[0m\u001b[0;34m(\u001b[0m\u001b[0mhistory\u001b[0m\u001b[0;34m.\u001b[0m\u001b[0mhistory\u001b[0m\u001b[0;34m[\u001b[0m\u001b[0;34m\"mean_absolute_error\"\u001b[0m\u001b[0;34m]\u001b[0m\u001b[0;34m)\u001b[0m\u001b[0;34m\u001b[0m\u001b[0;34m\u001b[0m\u001b[0m\n\u001b[1;32m      3\u001b[0m \u001b[0mplt\u001b[0m\u001b[0;34m.\u001b[0m\u001b[0mlegend\u001b[0m\u001b[0;34m(\u001b[0m\u001b[0;34m[\u001b[0m\u001b[0;34m'Mean Squared Error'\u001b[0m\u001b[0;34m,\u001b[0m\u001b[0;34m'Mean Absolute Error'\u001b[0m\u001b[0;34m]\u001b[0m\u001b[0;34m)\u001b[0m\u001b[0;34m\u001b[0m\u001b[0;34m\u001b[0m\u001b[0m\n\u001b[1;32m      4\u001b[0m \u001b[0mplt\u001b[0m\u001b[0;34m.\u001b[0m\u001b[0mtitle\u001b[0m\u001b[0;34m(\u001b[0m\u001b[0;34m\"Losses\"\u001b[0m\u001b[0;34m)\u001b[0m\u001b[0;34m\u001b[0m\u001b[0;34m\u001b[0m\u001b[0m\n\u001b[1;32m      5\u001b[0m \u001b[0mplt\u001b[0m\u001b[0;34m.\u001b[0m\u001b[0mxlabel\u001b[0m\u001b[0;34m(\u001b[0m\u001b[0;34m\"epochs\"\u001b[0m\u001b[0;34m)\u001b[0m\u001b[0;34m\u001b[0m\u001b[0;34m\u001b[0m\u001b[0m\n",
            "\u001b[0;31mNameError\u001b[0m: name 'history' is not defined"
          ]
        }
      ],
      "source": [
        "plt.plot(history.history[\"loss\"])\n",
        "plt.plot(history.history[\"mean_absolute_error\"])\n",
        "plt.legend(['Mean Squared Error','Mean Absolute Error'])\n",
        "plt.title(\"Losses\")\n",
        "plt.xlabel(\"epochs\")\n",
        "plt.ylabel(\"loss\")\n",
        "plt.show()"
      ]
    },
    {
      "cell_type": "code",
      "execution_count": null,
      "metadata": {
        "id": "mveQgWW7ewLk"
      },
      "outputs": [],
      "source": []
    },
    {
      "cell_type": "markdown",
      "metadata": {
        "id": "mjBZIpnlRWbk"
      },
      "source": [
        "TESTING MODEL BUILD USING TRAINED DATA"
      ]
    },
    {
      "cell_type": "code",
      "execution_count": 20,
      "metadata": {
        "id": "Ux9FUEI0P4qZ"
      },
      "outputs": [],
      "source": [
        "# Creating a testing set with 60 time-steps and 1 output\n",
        "x_test = []\n",
        "y_test = []\n",
        "\n",
        "for i in range(60, len(test_data)):\n",
        "    x_test.append(test_data[i-60:i, 0])\n",
        "    y_test.append(test_data[i, 0])\n",
        "x_test, y_test = np.array(x_test), np.array(y_test)\n",
        "x_test = np.reshape(x_test, (x_test.shape[0], x_test.shape[1], 1))"
      ]
    },
    {
      "cell_type": "code",
      "execution_count": 21,
      "metadata": {
        "colab": {
          "base_uri": "https://localhost:8080/"
        },
        "id": "oCa4YSdfKa7Z",
        "outputId": "5b5fdc75-f65c-4b7d-cc8c-dd23cee8d24b"
      },
      "outputs": [
        {
          "output_type": "execute_result",
          "data": {
            "text/plain": [
              "((1116, 60, 1), (1116,))"
            ]
          },
          "metadata": {},
          "execution_count": 21
        }
      ],
      "source": [
        "x_test.shape , y_test.shape"
      ]
    },
    {
      "cell_type": "markdown",
      "metadata": {
        "id": "mC6FdFhrRaGJ"
      },
      "source": [
        "INVERSE SCALAR"
      ]
    },
    {
      "cell_type": "code",
      "execution_count": 22,
      "metadata": {
        "id": "9IwajmBYQl8N",
        "colab": {
          "base_uri": "https://localhost:8080/"
        },
        "outputId": "2867a0ee-fd15-465f-c32d-0a69e7a08c57"
      },
      "outputs": [
        {
          "output_type": "stream",
          "name": "stdout",
          "text": [
            "35/35 [==============================] - 2s 8ms/step\n"
          ]
        },
        {
          "output_type": "execute_result",
          "data": {
            "text/plain": [
              "(1116, 1)"
            ]
          },
          "metadata": {},
          "execution_count": 22
        }
      ],
      "source": [
        "#inverse y_test scaling\n",
        "predictions = model.predict(x_test)\n",
        "\n",
        "#inverse predictions scaling\n",
        "predictions = scaler.inverse_transform(predictions)\n",
        "predictions.shape"
      ]
    },
    {
      "cell_type": "code",
      "execution_count": null,
      "metadata": {
        "id": "QDsv0XNXNepF"
      },
      "outputs": [],
      "source": [
        "x_test.shape,y_test.shape"
      ]
    },
    {
      "cell_type": "code",
      "execution_count": 24,
      "metadata": {
        "id": "-L8ZMvWINBYp"
      },
      "outputs": [],
      "source": [
        "y_test = scaler.inverse_transform([y_test])"
      ]
    },
    {
      "cell_type": "markdown",
      "metadata": {
        "id": "75odxF-yS2N6"
      },
      "source": [
        "RMS METRICS"
      ]
    },
    {
      "cell_type": "code",
      "execution_count": 25,
      "metadata": {
        "colab": {
          "base_uri": "https://localhost:8080/"
        },
        "id": "LwLQh10zS5EW",
        "outputId": "99d1dfa4-1b2c-4d10-9b58-627476cc362e"
      },
      "outputs": [
        {
          "output_type": "execute_result",
          "data": {
            "text/plain": [
              "506.49"
            ]
          },
          "metadata": {},
          "execution_count": 25
        }
      ],
      "source": [
        "RMSE = np.sqrt(np.mean( y_test - predictions )**2).round(2)\n",
        "RMSE"
      ]
    },
    {
      "cell_type": "markdown",
      "metadata": {
        "id": "aHPrquV9V90x"
      },
      "source": [
        "PLOTTING THE TEST REULTS"
      ]
    },
    {
      "cell_type": "code",
      "execution_count": 26,
      "metadata": {
        "id": "KebqDbCLXGAL"
      },
      "outputs": [],
      "source": [
        "train = dataset.iloc[:train_size , 0:1]\n",
        "test = dataset.iloc[train_size: , 0:1]\n",
        "test['Predictions'] = predictions\n"
      ]
    },
    {
      "cell_type": "code",
      "execution_count": 28,
      "metadata": {
        "colab": {
          "base_uri": "https://localhost:8080/",
          "height": 458
        },
        "id": "KUl0u1R9Ydrx",
        "outputId": "a2bd0dd3-570e-4c2f-a00e-57d932eae33a"
      },
      "outputs": [
        {
          "output_type": "execute_result",
          "data": {
            "text/plain": [
              "<matplotlib.legend.Legend at 0x7f4d19a46c10>"
            ]
          },
          "metadata": {},
          "execution_count": 28
        },
        {
          "output_type": "display_data",
          "data": {
            "text/plain": [
              "<Figure size 1152x432 with 1 Axes>"
            ],
            "image/png": "[encoded data removed]"
          },
          "metadata": {}
        }
      ],
      "source": [
        "plt.figure(figsize= (16, 6))\n",
        "plt.title('Tesla Close Stock Price Prediction', fontsize= 18)\n",
        "plt.xlabel('Date', fontsize= 18)\n",
        "plt.ylabel('Close Price', fontsize= 18)\n",
        "plt.plot(train['close'], linewidth= 3)\n",
        "plt.plot(test['close'], linewidth= 3)\n",
        "plt.plot(test[\"Predictions\"], linewidth= 3)\n",
        "plt.legend(['Train', 'Test', 'Predictions'])"
      ]
    },
    {
      "cell_type": "markdown",
      "metadata": {
        "id": "-Qbl3vSNat2t"
      },
      "source": [
        "FORECASTING NEXT 10 DAYS"
      ]
    },
    {
      "cell_type": "code",
      "execution_count": 29,
      "metadata": {
        "id": "rK4qXvumWhWy"
      },
      "outputs": [],
      "source": [
        "from datetime import timedelta"
      ]
    },
    {
      "cell_type": "code",
      "execution_count": 30,
      "metadata": {
        "id": "IqkyxHlYWjcU"
      },
      "outputs": [],
      "source": [
        "def insert_end(Xin, new_input):\n",
        "    timestep = 60\n",
        "    for i in range(timestep - 1):\n",
        "        Xin[:, i, :] = Xin[:, i+1, :]\n",
        "    Xin[:, timestep - 1, :] = new_input\n",
        "    return Xin"
      ]
    },
    {
      "cell_type": "code",
      "execution_count": 31,
      "metadata": {
        "colab": {
          "base_uri": "https://localhost:8080/"
        },
        "id": "wNDMdq-_Wm__",
        "outputId": "f04ab371-695d-4c74-d8e2-1b4975baecc3"
      },
      "outputs": [
        {
          "output_type": "stream",
          "name": "stdout",
          "text": [
            "1/1 [==============================] - 0s 33ms/step\n",
            "[0.4815435]\n",
            "1/1 [==============================] - 0s 36ms/step\n",
            "[0.4815435, 0.41642594]\n",
            "1/1 [==============================] - 0s 39ms/step\n",
            "[0.4815435, 0.41642594, 0.35051173]\n",
            "1/1 [==============================] - 0s 21ms/step\n",
            "[0.4815435, 0.41642594, 0.35051173, 0.30410644]\n",
            "1/1 [==============================] - 0s 23ms/step\n",
            "[0.4815435, 0.41642594, 0.35051173, 0.30410644, 0.29053453]\n",
            "1/1 [==============================] - 0s 20ms/step\n",
            "[0.4815435, 0.41642594, 0.35051173, 0.30410644, 0.29053453, 0.3030215]\n",
            "1/1 [==============================] - 0s 23ms/step\n",
            "[0.4815435, 0.41642594, 0.35051173, 0.30410644, 0.29053453, 0.3030215, 0.32535392]\n",
            "1/1 [==============================] - 0s 23ms/step\n",
            "[0.4815435, 0.41642594, 0.35051173, 0.30410644, 0.29053453, 0.3030215, 0.32535392, 0.34387818]\n",
            "1/1 [==============================] - 0s 26ms/step\n",
            "[0.4815435, 0.41642594, 0.35051173, 0.30410644, 0.29053453, 0.3030215, 0.32535392, 0.34387818, 0.35325432]\n",
            "1/1 [==============================] - 0s 22ms/step\n",
            "[0.4815435, 0.41642594, 0.35051173, 0.30410644, 0.29053453, 0.3030215, 0.32535392, 0.34387818, 0.35325432, 0.35405862]\n",
            "1/1 [==============================] - 0s 22ms/step\n",
            "[0.4815435, 0.41642594, 0.35051173, 0.30410644, 0.29053453, 0.3030215, 0.32535392, 0.34387818, 0.35325432, 0.35405862, 0.3492021]\n",
            "1/1 [==============================] - 0s 21ms/step\n",
            "[0.4815435, 0.41642594, 0.35051173, 0.30410644, 0.29053453, 0.3030215, 0.32535392, 0.34387818, 0.35325432, 0.35405862, 0.3492021, 0.3418345]\n",
            "1/1 [==============================] - 0s 22ms/step\n",
            "[0.4815435, 0.41642594, 0.35051173, 0.30410644, 0.29053453, 0.3030215, 0.32535392, 0.34387818, 0.35325432, 0.35405862, 0.3492021, 0.3418345, 0.33435452]\n",
            "1/1 [==============================] - 0s 24ms/step\n",
            "[0.4815435, 0.41642594, 0.35051173, 0.30410644, 0.29053453, 0.3030215, 0.32535392, 0.34387818, 0.35325432, 0.35405862, 0.3492021, 0.3418345, 0.33435452, 0.32808712]\n",
            "1/1 [==============================] - 0s 27ms/step\n",
            "[0.4815435, 0.41642594, 0.35051173, 0.30410644, 0.29053453, 0.3030215, 0.32535392, 0.34387818, 0.35325432, 0.35405862, 0.3492021, 0.3418345, 0.33435452, 0.32808712, 0.3234038]\n",
            "1/1 [==============================] - 0s 26ms/step\n",
            "[0.4815435, 0.41642594, 0.35051173, 0.30410644, 0.29053453, 0.3030215, 0.32535392, 0.34387818, 0.35325432, 0.35405862, 0.3492021, 0.3418345, 0.33435452, 0.32808712, 0.3234038, 0.3200704]\n",
            "1/1 [==============================] - 0s 29ms/step\n",
            "[0.4815435, 0.41642594, 0.35051173, 0.30410644, 0.29053453, 0.3030215, 0.32535392, 0.34387818, 0.35325432, 0.35405862, 0.3492021, 0.3418345, 0.33435452, 0.32808712, 0.3234038, 0.3200704, 0.31761724]\n",
            "1/1 [==============================] - 0s 29ms/step\n",
            "[0.4815435, 0.41642594, 0.35051173, 0.30410644, 0.29053453, 0.3030215, 0.32535392, 0.34387818, 0.35325432, 0.35405862, 0.3492021, 0.3418345, 0.33435452, 0.32808712, 0.3234038, 0.3200704, 0.31761724, 0.31560153]\n",
            "1/1 [==============================] - 0s 26ms/step\n",
            "[0.4815435, 0.41642594, 0.35051173, 0.30410644, 0.29053453, 0.3030215, 0.32535392, 0.34387818, 0.35325432, 0.35405862, 0.3492021, 0.3418345, 0.33435452, 0.32808712, 0.3234038, 0.3200704, 0.31761724, 0.31560153, 0.313727]\n",
            "1/1 [==============================] - 0s 22ms/step\n",
            "[0.4815435, 0.41642594, 0.35051173, 0.30410644, 0.29053453, 0.3030215, 0.32535392, 0.34387818, 0.35325432, 0.35405862, 0.3492021, 0.3418345, 0.33435452, 0.32808712, 0.3234038, 0.3200704, 0.31761724, 0.31560153, 0.313727, 0.31185514]\n",
            "1/1 [==============================] - 0s 21ms/step\n",
            "[0.4815435, 0.41642594, 0.35051173, 0.30410644, 0.29053453, 0.3030215, 0.32535392, 0.34387818, 0.35325432, 0.35405862, 0.3492021, 0.3418345, 0.33435452, 0.32808712, 0.3234038, 0.3200704, 0.31761724, 0.31560153, 0.313727, 0.31185514, 0.30996087]\n",
            "1/1 [==============================] - 0s 25ms/step\n",
            "[0.4815435, 0.41642594, 0.35051173, 0.30410644, 0.29053453, 0.3030215, 0.32535392, 0.34387818, 0.35325432, 0.35405862, 0.3492021, 0.3418345, 0.33435452, 0.32808712, 0.3234038, 0.3200704, 0.31761724, 0.31560153, 0.313727, 0.31185514, 0.30996087, 0.3080771]\n",
            "1/1 [==============================] - 0s 25ms/step\n",
            "[0.4815435, 0.41642594, 0.35051173, 0.30410644, 0.29053453, 0.3030215, 0.32535392, 0.34387818, 0.35325432, 0.35405862, 0.3492021, 0.3418345, 0.33435452, 0.32808712, 0.3234038, 0.3200704, 0.31761724, 0.31560153, 0.313727, 0.31185514, 0.30996087, 0.3080771, 0.30625096]\n",
            "1/1 [==============================] - 0s 23ms/step\n",
            "[0.4815435, 0.41642594, 0.35051173, 0.30410644, 0.29053453, 0.3030215, 0.32535392, 0.34387818, 0.35325432, 0.35405862, 0.3492021, 0.3418345, 0.33435452, 0.32808712, 0.3234038, 0.3200704, 0.31761724, 0.31560153, 0.313727, 0.31185514, 0.30996087, 0.3080771, 0.30625096, 0.3045196]\n",
            "1/1 [==============================] - 0s 22ms/step\n",
            "[0.4815435, 0.41642594, 0.35051173, 0.30410644, 0.29053453, 0.3030215, 0.32535392, 0.34387818, 0.35325432, 0.35405862, 0.3492021, 0.3418345, 0.33435452, 0.32808712, 0.3234038, 0.3200704, 0.31761724, 0.31560153, 0.313727, 0.31185514, 0.30996087, 0.3080771, 0.30625096, 0.3045196, 0.30290172]\n",
            "1/1 [==============================] - 0s 25ms/step\n",
            "[0.4815435, 0.41642594, 0.35051173, 0.30410644, 0.29053453, 0.3030215, 0.32535392, 0.34387818, 0.35325432, 0.35405862, 0.3492021, 0.3418345, 0.33435452, 0.32808712, 0.3234038, 0.3200704, 0.31761724, 0.31560153, 0.313727, 0.31185514, 0.30996087, 0.3080771, 0.30625096, 0.3045196, 0.30290172, 0.3013999]\n",
            "1/1 [==============================] - 0s 23ms/step\n",
            "[0.4815435, 0.41642594, 0.35051173, 0.30410644, 0.29053453, 0.3030215, 0.32535392, 0.34387818, 0.35325432, 0.35405862, 0.3492021, 0.3418345, 0.33435452, 0.32808712, 0.3234038, 0.3200704, 0.31761724, 0.31560153, 0.313727, 0.31185514, 0.30996087, 0.3080771, 0.30625096, 0.3045196, 0.30290172, 0.3013999, 0.3000064]\n",
            "1/1 [==============================] - 0s 24ms/step\n",
            "[0.4815435, 0.41642594, 0.35051173, 0.30410644, 0.29053453, 0.3030215, 0.32535392, 0.34387818, 0.35325432, 0.35405862, 0.3492021, 0.3418345, 0.33435452, 0.32808712, 0.3234038, 0.3200704, 0.31761724, 0.31560153, 0.313727, 0.31185514, 0.30996087, 0.3080771, 0.30625096, 0.3045196, 0.30290172, 0.3013999, 0.3000064, 0.29870957]\n",
            "1/1 [==============================] - 0s 22ms/step\n",
            "[0.4815435, 0.41642594, 0.35051173, 0.30410644, 0.29053453, 0.3030215, 0.32535392, 0.34387818, 0.35325432, 0.35405862, 0.3492021, 0.3418345, 0.33435452, 0.32808712, 0.3234038, 0.3200704, 0.31761724, 0.31560153, 0.313727, 0.31185514, 0.30996087, 0.3080771, 0.30625096, 0.3045196, 0.30290172, 0.3013999, 0.3000064, 0.29870957, 0.29749775]\n",
            "1/1 [==============================] - 0s 22ms/step\n",
            "[0.4815435, 0.41642594, 0.35051173, 0.30410644, 0.29053453, 0.3030215, 0.32535392, 0.34387818, 0.35325432, 0.35405862, 0.3492021, 0.3418345, 0.33435452, 0.32808712, 0.3234038, 0.3200704, 0.31761724, 0.31560153, 0.313727, 0.31185514, 0.30996087, 0.3080771, 0.30625096, 0.3045196, 0.30290172, 0.3013999, 0.3000064, 0.29870957, 0.29749775, 0.2963613]\n"
          ]
        }
      ],
      "source": [
        "future = 30\n",
        "forcast = []\n",
        "Xin = x_test[-1 :, :, :]\n",
        "time = []\n",
        "for i in range(0, future):\n",
        "    out = model.predict(Xin, batch_size=5)\n",
        "    forcast.append(out[0, 0]) \n",
        "    print(forcast)\n",
        "    Xin = insert_end(Xin, out[0, 0]) \n",
        "    time.append(pd.to_datetime(df.index[-1]) + timedelta(days=i))"
      ]
    },
    {
      "cell_type": "code",
      "execution_count": 32,
      "metadata": {
        "id": "WfmFWowmXDV5"
      },
      "outputs": [],
      "source": [
        "forcasted_output = np.asanyarray(forcast)   \n",
        "forcasted_output = forcasted_output.reshape(-1, 1) \n",
        "forcasted_output = scaler.inverse_transform(forcasted_output) "
      ]
    },
    {
      "cell_type": "code",
      "execution_count": 33,
      "metadata": {
        "id": "X-TTd3k7XHCZ"
      },
      "outputs": [],
      "source": [
        "forcasted_output = pd.DataFrame(forcasted_output)\n",
        "date = pd.DataFrame(time)\n",
        "df_result = pd.concat([date,forcasted_output], axis=1)\n",
        "df_result.columns = \"DATE\", \"CLOSE\""
      ]
    },
    {
      "cell_type": "code",
      "execution_count": null,
      "metadata": {
        "colab": {
          "base_uri": "https://localhost:8080/",
          "height": 990
        },
        "id": "1kI0TciQXNKk",
        "outputId": "901db0ae-1626-49b5-e06c-2fbf86ecb317"
      },
      "outputs": [
        {
          "data": {
            "text/html": [
              "\n",
              "  <div id=\"df-285fef29-2f14-4050-94ee-951802772299\">\n",
              "    <div class=\"colab-df-container\">\n",
              "      <div>\n",
              "<style scoped>\n",
              "    .dataframe tbody tr th:only-of-type {\n",
              "        vertical-align: middle;\n",
              "    }\n",
              "\n",
              "    .dataframe tbody tr th {\n",
              "        vertical-align: top;\n",
              "    }\n",
              "\n",
              "    .dataframe thead th {\n",
              "        text-align: right;\n",
              "    }\n",
              "</style>\n",
              "<table border=\"1\" class=\"dataframe\">\n",
              "  <thead>\n",
              "    <tr style=\"text-align: right;\">\n",
              "      <th></th>\n",
              "      <th>DATE</th>\n",
              "      <th>CLOSE</th>\n",
              "    </tr>\n",
              "  </thead>\n",
              "  <tbody>\n",
              "    <tr>\n",
              "      <th>0</th>\n",
              "      <td>2020-02-03</td>\n",
              "      <td>394.119843</td>\n",
              "    </tr>\n",
              "    <tr>\n",
              "      <th>1</th>\n",
              "      <td>2020-02-04</td>\n",
              "      <td>392.510010</td>\n",
              "    </tr>\n",
              "    <tr>\n",
              "      <th>2</th>\n",
              "      <td>2020-02-05</td>\n",
              "      <td>390.937958</td>\n",
              "    </tr>\n",
              "    <tr>\n",
              "      <th>3</th>\n",
              "      <td>2020-02-06</td>\n",
              "      <td>389.404388</td>\n",
              "    </tr>\n",
              "    <tr>\n",
              "      <th>4</th>\n",
              "      <td>2020-02-07</td>\n",
              "      <td>387.909851</td>\n",
              "    </tr>\n",
              "    <tr>\n",
              "      <th>5</th>\n",
              "      <td>2020-02-08</td>\n",
              "      <td>386.454102</td>\n",
              "    </tr>\n",
              "    <tr>\n",
              "      <th>6</th>\n",
              "      <td>2020-02-09</td>\n",
              "      <td>385.036865</td>\n",
              "    </tr>\n",
              "    <tr>\n",
              "      <th>7</th>\n",
              "      <td>2020-02-10</td>\n",
              "      <td>383.657440</td>\n",
              "    </tr>\n",
              "    <tr>\n",
              "      <th>8</th>\n",
              "      <td>2020-02-11</td>\n",
              "      <td>382.314667</td>\n",
              "    </tr>\n",
              "    <tr>\n",
              "      <th>9</th>\n",
              "      <td>2020-02-12</td>\n",
              "      <td>381.007507</td>\n",
              "    </tr>\n",
              "    <tr>\n",
              "      <th>10</th>\n",
              "      <td>2020-02-13</td>\n",
              "      <td>379.733307</td>\n",
              "    </tr>\n",
              "    <tr>\n",
              "      <th>11</th>\n",
              "      <td>2020-02-14</td>\n",
              "      <td>378.488770</td>\n",
              "    </tr>\n",
              "    <tr>\n",
              "      <th>12</th>\n",
              "      <td>2020-02-15</td>\n",
              "      <td>377.274231</td>\n",
              "    </tr>\n",
              "    <tr>\n",
              "      <th>13</th>\n",
              "      <td>2020-02-16</td>\n",
              "      <td>376.087585</td>\n",
              "    </tr>\n",
              "    <tr>\n",
              "      <th>14</th>\n",
              "      <td>2020-02-17</td>\n",
              "      <td>374.926788</td>\n",
              "    </tr>\n",
              "    <tr>\n",
              "      <th>15</th>\n",
              "      <td>2020-02-18</td>\n",
              "      <td>373.790009</td>\n",
              "    </tr>\n",
              "    <tr>\n",
              "      <th>16</th>\n",
              "      <td>2020-02-19</td>\n",
              "      <td>372.675262</td>\n",
              "    </tr>\n",
              "    <tr>\n",
              "      <th>17</th>\n",
              "      <td>2020-02-20</td>\n",
              "      <td>371.581024</td>\n",
              "    </tr>\n",
              "    <tr>\n",
              "      <th>18</th>\n",
              "      <td>2020-02-21</td>\n",
              "      <td>370.505707</td>\n",
              "    </tr>\n",
              "    <tr>\n",
              "      <th>19</th>\n",
              "      <td>2020-02-22</td>\n",
              "      <td>369.447968</td>\n",
              "    </tr>\n",
              "    <tr>\n",
              "      <th>20</th>\n",
              "      <td>2020-02-23</td>\n",
              "      <td>368.406769</td>\n",
              "    </tr>\n",
              "    <tr>\n",
              "      <th>21</th>\n",
              "      <td>2020-02-24</td>\n",
              "      <td>367.380981</td>\n",
              "    </tr>\n",
              "    <tr>\n",
              "      <th>22</th>\n",
              "      <td>2020-02-25</td>\n",
              "      <td>366.369751</td>\n",
              "    </tr>\n",
              "    <tr>\n",
              "      <th>23</th>\n",
              "      <td>2020-02-26</td>\n",
              "      <td>365.372437</td>\n",
              "    </tr>\n",
              "    <tr>\n",
              "      <th>24</th>\n",
              "      <td>2020-02-27</td>\n",
              "      <td>364.388397</td>\n",
              "    </tr>\n",
              "    <tr>\n",
              "      <th>25</th>\n",
              "      <td>2020-02-28</td>\n",
              "      <td>363.417023</td>\n",
              "    </tr>\n",
              "    <tr>\n",
              "      <th>26</th>\n",
              "      <td>2020-02-29</td>\n",
              "      <td>362.457977</td>\n",
              "    </tr>\n",
              "    <tr>\n",
              "      <th>27</th>\n",
              "      <td>2020-03-01</td>\n",
              "      <td>361.511047</td>\n",
              "    </tr>\n",
              "    <tr>\n",
              "      <th>28</th>\n",
              "      <td>2020-03-02</td>\n",
              "      <td>360.575836</td>\n",
              "    </tr>\n",
              "    <tr>\n",
              "      <th>29</th>\n",
              "      <td>2020-03-03</td>\n",
              "      <td>359.652283</td>\n",
              "    </tr>\n",
              "  </tbody>\n",
              "</table>\n",
              "</div>\n",
              "      <button class=\"colab-df-convert\" onclick=\"convertToInteractive('df-285fef29-2f14-4050-94ee-951802772299')\"\n",
              "              title=\"Convert this dataframe to an interactive table.\"\n",
              "              style=\"display:none;\">\n",
              "        \n",
              "  <svg xmlns=\"http://www.w3.org/2000/svg\" height=\"24px\"viewBox=\"0 0 24 24\"\n",
              "       width=\"24px\">\n",
              "    <path d=\"M0 0h24v24H0V0z\" fill=\"none\"/>\n",
              "    <path d=\"M18.56 5.44l.94 2.06.94-2.06 2.06-.94-2.06-.94-.94-2.06-.94 2.06-2.06.94zm-11 1L8.5 8.5l.94-2.06 2.06-.94-2.06-.94L8.5 2.5l-.94 2.06-2.06.94zm10 10l.94 2.06.94-2.06 2.06-.94-2.06-.94-.94-2.06-.94 2.06-2.06.94z\"/><path d=\"M17.41 7.96l-1.37-1.37c-.4-.4-.92-.59-1.43-.59-.52 0-1.04.2-1.43.59L10.3 9.45l-7.72 7.72c-.78.78-.78 2.05 0 2.83L4 21.41c.39.39.9.59 1.41.59.51 0 1.02-.2 1.41-.59l7.78-7.78 2.81-2.81c.8-.78.8-2.07 0-2.86zM5.41 20L4 18.59l7.72-7.72 1.47 1.35L5.41 20z\"/>\n",
              "  </svg>\n",
              "      </button>\n",
              "      \n",
              "  <style>\n",
              "    .colab-df-container {\n",
              "      display:flex;\n",
              "      flex-wrap:wrap;\n",
              "      gap: 12px;\n",
              "    }\n",
              "\n",
              "    .colab-df-convert {\n",
              "      background-color: #E8F0FE;\n",
              "      border: none;\n",
              "      border-radius: 50%;\n",
              "      cursor: pointer;\n",
              "      display: none;\n",
              "      fill: #1967D2;\n",
              "      height: 32px;\n",
              "      padding: 0 0 0 0;\n",
              "      width: 32px;\n",
              "    }\n",
              "\n",
              "    .colab-df-convert:hover {\n",
              "      background-color: #E2EBFA;\n",
              "      box-shadow: 0px 1px 2px rgba(60, 64, 67, 0.3), 0px 1px 3px 1px rgba(60, 64, 67, 0.15);\n",
              "      fill: #174EA6;\n",
              "    }\n",
              "\n",
              "    [theme=dark] .colab-df-convert {\n",
              "      background-color: #3B4455;\n",
              "      fill: #D2E3FC;\n",
              "    }\n",
              "\n",
              "    [theme=dark] .colab-df-convert:hover {\n",
              "      background-color: #434B5C;\n",
              "      box-shadow: 0px 1px 3px 1px rgba(0, 0, 0, 0.15);\n",
              "      filter: drop-shadow(0px 1px 2px rgba(0, 0, 0, 0.3));\n",
              "      fill: #FFFFFF;\n",
              "    }\n",
              "  </style>\n",
              "\n",
              "      <script>\n",
              "        const buttonEl =\n",
              "          document.querySelector('#df-285fef29-2f14-4050-94ee-951802772299 button.colab-df-convert');\n",
              "        buttonEl.style.display =\n",
              "          google.colab.kernel.accessAllowed ? 'block' : 'none';\n",
              "\n",
              "        async function convertToInteractive(key) {\n",
              "          const element = document.querySelector('#df-285fef29-2f14-4050-94ee-951802772299');\n",
              "          const dataTable =\n",
              "            await google.colab.kernel.invokeFunction('convertToInteractive',\n",
              "                                                     [key], {});\n",
              "          if (!dataTable) return;\n",
              "\n",
              "          const docLinkHtml = 'Like what you see? Visit the ' +\n",
              "            '<a target=\"_blank\" href=https://colab.research.google.com/notebooks/data_table.ipynb>data table notebook</a>'\n",
              "            + ' to learn more about interactive tables.';\n",
              "          element.innerHTML = '';\n",
              "          dataTable['output_type'] = 'display_data';\n",
              "          await google.colab.output.renderOutput(dataTable, element);\n",
              "          const docLink = document.createElement('div');\n",
              "          docLink.innerHTML = docLinkHtml;\n",
              "          element.appendChild(docLink);\n",
              "        }\n",
              "      </script>\n",
              "    </div>\n",
              "  </div>\n",
              "  "
            ],
            "text/plain": [
              "         DATE       CLOSE\n",
              "0  2020-02-03  394.119843\n",
              "1  2020-02-04  392.510010\n",
              "2  2020-02-05  390.937958\n",
              "3  2020-02-06  389.404388\n",
              "4  2020-02-07  387.909851\n",
              "5  2020-02-08  386.454102\n",
              "6  2020-02-09  385.036865\n",
              "7  2020-02-10  383.657440\n",
              "8  2020-02-11  382.314667\n",
              "9  2020-02-12  381.007507\n",
              "10 2020-02-13  379.733307\n",
              "11 2020-02-14  378.488770\n",
              "12 2020-02-15  377.274231\n",
              "13 2020-02-16  376.087585\n",
              "14 2020-02-17  374.926788\n",
              "15 2020-02-18  373.790009\n",
              "16 2020-02-19  372.675262\n",
              "17 2020-02-20  371.581024\n",
              "18 2020-02-21  370.505707\n",
              "19 2020-02-22  369.447968\n",
              "20 2020-02-23  368.406769\n",
              "21 2020-02-24  367.380981\n",
              "22 2020-02-25  366.369751\n",
              "23 2020-02-26  365.372437\n",
              "24 2020-02-27  364.388397\n",
              "25 2020-02-28  363.417023\n",
              "26 2020-02-29  362.457977\n",
              "27 2020-03-01  361.511047\n",
              "28 2020-03-02  360.575836\n",
              "29 2020-03-03  359.652283"
            ]
          },
          "execution_count": 281,
          "metadata": {},
          "output_type": "execute_result"
        }
      ],
      "source": [
        "df_result"
      ]
    },
    {
      "cell_type": "code",
      "execution_count": 35,
      "metadata": {
        "colab": {
          "base_uri": "https://localhost:8080/",
          "height": 576
        },
        "id": "igULOKaFXe3u",
        "outputId": "00cc1868-e02a-4ddc-874c-7407dd5f6fe6"
      },
      "outputs": [
        {
          "output_type": "execute_result",
          "data": {
            "text/plain": [
              "[<matplotlib.lines.Line2D at 0x7f4d191a4430>]"
            ]
          },
          "metadata": {},
          "execution_count": 35
        },
        {
          "output_type": "display_data",
          "data": {
            "text/plain": [
              "<Figure size 1152x576 with 1 Axes>"
            ],
            "image/png": "[encoded data removed]"
          },
          "metadata": {}
        }
      ],
      "source": [
        "plt.figure(figsize=(16, 8))\n",
        "plt.title('Tesla Close Stock Price Forecasting For Next 30 Days')\n",
        "plt.xlabel('DATE', fontsize=18)\n",
        "plt.ylabel('Close' ,fontsize=18)\n",
        "plt.plot(df['close'])\n",
        "plt.plot(df_result.set_index('DATE')[['CLOSE']])"
      ]
    }
  ],
  "metadata": {
    "accelerator": "GPU",
    "colab": {
      "provenance": [],
      "authorship_tag": "ABX9TyPij+epbeOTHB5ssJUNJLEk",
      "include_colab_link": true
    },
    "gpuClass": "standard",
    "kernelspec": {
      "display_name": "Python 3",
      "name": "python3"
    },
    "language_info": {
      "name": "python"
    }
  },
  "nbformat": 4,
  "nbformat_minor": 0
}