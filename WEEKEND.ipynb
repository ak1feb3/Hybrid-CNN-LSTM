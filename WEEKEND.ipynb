{
  "nbformat": 4,
  "nbformat_minor": 0,
  "metadata": {
    "colab": {
      "provenance": [],
      "authorship_tag": "ABX9TyPT6MyhHL7NiVngMMex85eg",
      "include_colab_link": true
    },
    "kernelspec": {
      "name": "python3",
      "display_name": "Python 3"
    },
    "language_info": {
      "name": "python"
    },
    "accelerator": "GPU",
    "gpuClass": "standard"
  },
  "cells": [
    {
      "cell_type": "markdown",
      "metadata": {
        "id": "view-in-github",
        "colab_type": "text"
      },
      "source": [
        "<a href=\"https://colab.research.google.com/github/ak1feb3/Hybrid-CNN-LSTM/blob/main/WEEKEND.ipynb\" target=\"_parent\"><img src=\"https://colab.research.google.com/assets/colab-badge.svg\" alt=\"Open In Colab\"/></a>"
      ]
    },
    {
      "cell_type": "markdown",
      "source": [
        "HYBRID CNN-LSTM FOR FORECASTING STOCK PRICES"
      ],
      "metadata": {
        "id": "_R0qBCIheQF6"
      }
    },
    {
      "cell_type": "markdown",
      "source": [
        "IMPORT LIBRARIES"
      ],
      "metadata": {
        "id": "wzhtKvGoeh_-"
      }
    },
    {
      "cell_type": "code",
      "source": [
        "import numpy as np                             \n",
        "import pandas as pd                            \n",
        "from keras.models import Sequential            \n",
        "from keras.layers import Dense, LSTM, Dropout, Conv1D, MaxPooling1D, Flatten\n",
        "from sklearn.preprocessing import MinMaxScaler \n",
        "import matplotlib.pyplot as plt                \n",
        "from numpy import array"
      ],
      "metadata": {
        "id": "UjPKkbi3aZTf"
      },
      "execution_count": null,
      "outputs": []
    },
    {
      "cell_type": "markdown",
      "source": [
        "IMPORT DATASET"
      ],
      "metadata": {
        "id": "dzd6xf8Hek8M"
      }
    },
    {
      "cell_type": "code",
      "source": [
        "from google.colab import files\n",
        "DataSet=files.upload()"
      ],
      "metadata": {
        "colab": {
          "base_uri": "https://localhost:8080/",
          "height": 73
        },
        "id": "fKXPrUQVabqR",
        "outputId": "c2214237-a199-4e95-d0ec-ede9c1d30cc4"
      },
      "execution_count": null,
      "outputs": [
        {
          "output_type": "display_data",
          "data": {
            "text/plain": [
              "<IPython.core.display.HTML object>"
            ],
            "text/html": [
              "\n",
              "     <input type=\"file\" id=\"files-f0afbcf9-0843-4079-9b92-4daa445a46bc\" name=\"files[]\" multiple disabled\n",
              "        style=\"border:none\" />\n",
              "     <output id=\"result-f0afbcf9-0843-4079-9b92-4daa445a46bc\">\n",
              "      Upload widget is only available when the cell has been executed in the\n",
              "      current browser session. Please rerun this cell to enable.\n",
              "      </output>\n",
              "      <script>// Copyright 2017 Google LLC\n",
              "//\n",
              "// Licensed under the Apache License, Version 2.0 (the \"License\");\n",
              "// you may not use this file except in compliance with the License.\n",
              "// You may obtain a copy of the License at\n",
              "//\n",
              "//      http://www.apache.org/licenses/LICENSE-2.0\n",
              "//\n",
              "// Unless required by applicable law or agreed to in writing, software\n",
              "// distributed under the License is distributed on an \"AS IS\" BASIS,\n",
              "// WITHOUT WARRANTIES OR CONDITIONS OF ANY KIND, either express or implied.\n",
              "// See the License for the specific language governing permissions and\n",
              "// limitations under the License.\n",
              "\n",
              "/**\n",
              " * @fileoverview Helpers for google.colab Python module.\n",
              " */\n",
              "(function(scope) {\n",
              "function span(text, styleAttributes = {}) {\n",
              "  const element = document.createElement('span');\n",
              "  element.textContent = text;\n",
              "  for (const key of Object.keys(styleAttributes)) {\n",
              "    element.style[key] = styleAttributes[key];\n",
              "  }\n",
              "  return element;\n",
              "}\n",
              "\n",
              "// Max number of bytes which will be uploaded at a time.\n",
              "const MAX_PAYLOAD_SIZE = 100 * 1024;\n",
              "\n",
              "function _uploadFiles(inputId, outputId) {\n",
              "  const steps = uploadFilesStep(inputId, outputId);\n",
              "  const outputElement = document.getElementById(outputId);\n",
              "  // Cache steps on the outputElement to make it available for the next call\n",
              "  // to uploadFilesContinue from Python.\n",
              "  outputElement.steps = steps;\n",
              "\n",
              "  return _uploadFilesContinue(outputId);\n",
              "}\n",
              "\n",
              "// This is roughly an async generator (not supported in the browser yet),\n",
              "// where there are multiple asynchronous steps and the Python side is going\n",
              "// to poll for completion of each step.\n",
              "// This uses a Promise to block the python side on completion of each step,\n",
              "// then passes the result of the previous step as the input to the next step.\n",
              "function _uploadFilesContinue(outputId) {\n",
              "  const outputElement = document.getElementById(outputId);\n",
              "  const steps = outputElement.steps;\n",
              "\n",
              "  const next = steps.next(outputElement.lastPromiseValue);\n",
              "  return Promise.resolve(next.value.promise).then((value) => {\n",
              "    // Cache the last promise value to make it available to the next\n",
              "    // step of the generator.\n",
              "    outputElement.lastPromiseValue = value;\n",
              "    return next.value.response;\n",
              "  });\n",
              "}\n",
              "\n",
              "/**\n",
              " * Generator function which is called between each async step of the upload\n",
              " * process.\n",
              " * @param {string} inputId Element ID of the input file picker element.\n",
              " * @param {string} outputId Element ID of the output display.\n",
              " * @return {!Iterable<!Object>} Iterable of next steps.\n",
              " */\n",
              "function* uploadFilesStep(inputId, outputId) {\n",
              "  const inputElement = document.getElementById(inputId);\n",
              "  inputElement.disabled = false;\n",
              "\n",
              "  const outputElement = document.getElementById(outputId);\n",
              "  outputElement.innerHTML = '';\n",
              "\n",
              "  const pickedPromise = new Promise((resolve) => {\n",
              "    inputElement.addEventListener('change', (e) => {\n",
              "      resolve(e.target.files);\n",
              "    });\n",
              "  });\n",
              "\n",
              "  const cancel = document.createElement('button');\n",
              "  inputElement.parentElement.appendChild(cancel);\n",
              "  cancel.textContent = 'Cancel upload';\n",
              "  const cancelPromise = new Promise((resolve) => {\n",
              "    cancel.onclick = () => {\n",
              "      resolve(null);\n",
              "    };\n",
              "  });\n",
              "\n",
              "  // Wait for the user to pick the files.\n",
              "  const files = yield {\n",
              "    promise: Promise.race([pickedPromise, cancelPromise]),\n",
              "    response: {\n",
              "      action: 'starting',\n",
              "    }\n",
              "  };\n",
              "\n",
              "  cancel.remove();\n",
              "\n",
              "  // Disable the input element since further picks are not allowed.\n",
              "  inputElement.disabled = true;\n",
              "\n",
              "  if (!files) {\n",
              "    return {\n",
              "      response: {\n",
              "        action: 'complete',\n",
              "      }\n",
              "    };\n",
              "  }\n",
              "\n",
              "  for (const file of files) {\n",
              "    const li = document.createElement('li');\n",
              "    li.append(span(file.name, {fontWeight: 'bold'}));\n",
              "    li.append(span(\n",
              "        `(${file.type || 'n/a'}) - ${file.size} bytes, ` +\n",
              "        `last modified: ${\n",
              "            file.lastModifiedDate ? file.lastModifiedDate.toLocaleDateString() :\n",
              "                                    'n/a'} - `));\n",
              "    const percent = span('0% done');\n",
              "    li.appendChild(percent);\n",
              "\n",
              "    outputElement.appendChild(li);\n",
              "\n",
              "    const fileDataPromise = new Promise((resolve) => {\n",
              "      const reader = new FileReader();\n",
              "      reader.onload = (e) => {\n",
              "        resolve(e.target.result);\n",
              "      };\n",
              "      reader.readAsArrayBuffer(file);\n",
              "    });\n",
              "    // Wait for the data to be ready.\n",
              "    let fileData = yield {\n",
              "      promise: fileDataPromise,\n",
              "      response: {\n",
              "        action: 'continue',\n",
              "      }\n",
              "    };\n",
              "\n",
              "    // Use a chunked sending to avoid message size limits. See b/62115660.\n",
              "    let position = 0;\n",
              "    do {\n",
              "      const length = Math.min(fileData.byteLength - position, MAX_PAYLOAD_SIZE);\n",
              "      const chunk = new Uint8Array(fileData, position, length);\n",
              "      position += length;\n",
              "\n",
              "      const base64 = btoa(String.fromCharCode.apply(null, chunk));\n",
              "      yield {\n",
              "        response: {\n",
              "          action: 'append',\n",
              "          file: file.name,\n",
              "          data: base64,\n",
              "        },\n",
              "      };\n",
              "\n",
              "      let percentDone = fileData.byteLength === 0 ?\n",
              "          100 :\n",
              "          Math.round((position / fileData.byteLength) * 100);\n",
              "      percent.textContent = `${percentDone}% done`;\n",
              "\n",
              "    } while (position < fileData.byteLength);\n",
              "  }\n",
              "\n",
              "  // All done.\n",
              "  yield {\n",
              "    response: {\n",
              "      action: 'complete',\n",
              "    }\n",
              "  };\n",
              "}\n",
              "\n",
              "scope.google = scope.google || {};\n",
              "scope.google.colab = scope.google.colab || {};\n",
              "scope.google.colab._files = {\n",
              "  _uploadFiles,\n",
              "  _uploadFilesContinue,\n",
              "};\n",
              "})(self);\n",
              "</script> "
            ]
          },
          "metadata": {}
        },
        {
          "output_type": "stream",
          "name": "stdout",
          "text": [
            "Saving TSLA.csv to TSLA (1).csv\n"
          ]
        }
      ]
    },
    {
      "cell_type": "markdown",
      "source": [
        "READ DATASET"
      ],
      "metadata": {
        "id": "MHNL1LMBem7i"
      }
    },
    {
      "cell_type": "code",
      "source": [
        "df=pd.read_csv('TSLA.csv') "
      ],
      "metadata": {
        "id": "3ktmR5usa98R"
      },
      "execution_count": null,
      "outputs": []
    },
    {
      "cell_type": "markdown",
      "source": [
        "CHOOSING CLOSE COLUMN"
      ],
      "metadata": {
        "id": "0M8B_jOleoco"
      }
    },
    {
      "cell_type": "code",
      "source": [
        "close=df.reset_index()['Close']               #CHOOSING REQUIERD COLUMN"
      ],
      "metadata": {
        "id": "xdj5Lgg9bG7e"
      },
      "execution_count": null,
      "outputs": []
    },
    {
      "cell_type": "code",
      "source": [
        "dataset = df[\"Close\"]\n",
        "dataset = pd.DataFrame(dataset)\n",
        "data = dataset.values\n",
        "data.shape"
      ],
      "metadata": {
        "colab": {
          "base_uri": "https://localhost:8080/"
        },
        "id": "BQdXa8hqbCmn",
        "outputId": "e6e646f5-74b0-41ec-9b54-c601e36b3e5e"
      },
      "execution_count": null,
      "outputs": [
        {
          "output_type": "execute_result",
          "data": {
            "text/plain": [
              "(2416, 1)"
            ]
          },
          "metadata": {},
          "execution_count": 34
        }
      ]
    },
    {
      "cell_type": "markdown",
      "source": [
        "DATA PREPROCESSING"
      ],
      "metadata": {
        "id": "dSm1YaA9er3X"
      }
    },
    {
      "cell_type": "code",
      "source": [
        "scaler=MinMaxScaler(feature_range=(0,1))\n",
        "data=scaler.fit_transform(np.array(close).reshape(-1,1))"
      ],
      "metadata": {
        "id": "cBrWO1z3bNZ3"
      },
      "execution_count": null,
      "outputs": []
    },
    {
      "cell_type": "markdown",
      "source": [
        "SPLITTING DATA INTO TRAIN AND TEST 75&&25"
      ],
      "metadata": {
        "id": "K_2q3o0OevjT"
      }
    },
    {
      "cell_type": "code",
      "source": [
        "train_size=int(len(data)*0.75)\n",
        "test_size=len(data)-train_size"
      ],
      "metadata": {
        "id": "UIwtAb4sbPu9"
      },
      "execution_count": null,
      "outputs": []
    },
    {
      "cell_type": "code",
      "source": [
        "train_data = data[ :train_size , 0:1 ]\n",
        "test_data = data[ train_size-60: , 0:1 ]"
      ],
      "metadata": {
        "id": "ffkNsJjwbSPP"
      },
      "execution_count": null,
      "outputs": []
    },
    {
      "cell_type": "code",
      "source": [
        "x_train = []\n",
        "y_train = []\n",
        "\n",
        "for i in range(60, len(train_data)):\n",
        "    x_train.append(train_data[i-60:i, 0])\n",
        "    y_train.append(train_data[i, 0])\n",
        "x_train, y_train = np.array(x_train), np.array(y_train)\n",
        "x_train = np.reshape(x_train, (x_train.shape[0], x_train.shape[1], 1))\n"
      ],
      "metadata": {
        "id": "DYWvaQHjbV90"
      },
      "execution_count": null,
      "outputs": []
    },
    {
      "cell_type": "code",
      "source": [
        "x_train.shape , y_train.shape"
      ],
      "metadata": {
        "colab": {
          "base_uri": "https://localhost:8080/"
        },
        "id": "c2_XxZxobYQG",
        "outputId": "8a2a1826-7189-452e-a43d-244d535cdb33"
      },
      "execution_count": null,
      "outputs": [
        {
          "output_type": "execute_result",
          "data": {
            "text/plain": [
              "((1752, 60, 1), (1752,))"
            ]
          },
          "metadata": {},
          "execution_count": 39
        }
      ]
    },
    {
      "cell_type": "markdown",
      "source": [
        "CNN-LSTM MODEL"
      ],
      "metadata": {
        "id": "-9i4PQ-Pe3qf"
      }
    },
    {
      "cell_type": "code",
      "source": [],
      "metadata": {
        "id": "K1mby7dre6r_"
      },
      "execution_count": null,
      "outputs": []
    },
    {
      "cell_type": "code",
      "execution_count": null,
      "metadata": {
        "colab": {
          "base_uri": "https://localhost:8080/"
        },
        "id": "SFa6KHpvTLk-",
        "outputId": "bc95b289-056f-4c4b-cb9d-70be15064ad6"
      },
      "outputs": [
        {
          "output_type": "stream",
          "name": "stdout",
          "text": [
            "Epoch 1/50\n",
            "36/36 - 6s - loss: 0.0067 - 6s/epoch - 167ms/step\n",
            "Epoch 2/50\n",
            "36/36 - 0s - loss: 0.0015 - 303ms/epoch - 8ms/step\n",
            "Epoch 3/50\n",
            "36/36 - 0s - loss: 0.0013 - 306ms/epoch - 8ms/step\n",
            "Epoch 4/50\n",
            "36/36 - 0s - loss: 0.0013 - 305ms/epoch - 8ms/step\n",
            "Epoch 5/50\n",
            "36/36 - 0s - loss: 0.0013 - 304ms/epoch - 8ms/step\n",
            "Epoch 6/50\n",
            "36/36 - 0s - loss: 0.0011 - 296ms/epoch - 8ms/step\n",
            "Epoch 7/50\n",
            "36/36 - 0s - loss: 0.0011 - 306ms/epoch - 8ms/step\n",
            "Epoch 8/50\n",
            "36/36 - 0s - loss: 0.0012 - 304ms/epoch - 8ms/step\n",
            "Epoch 9/50\n",
            "36/36 - 0s - loss: 0.0011 - 303ms/epoch - 8ms/step\n",
            "Epoch 10/50\n",
            "36/36 - 0s - loss: 0.0010 - 303ms/epoch - 8ms/step\n",
            "Epoch 11/50\n",
            "36/36 - 0s - loss: 0.0010 - 359ms/epoch - 10ms/step\n",
            "Epoch 12/50\n",
            "36/36 - 0s - loss: 0.0012 - 433ms/epoch - 12ms/step\n",
            "Epoch 13/50\n",
            "36/36 - 0s - loss: 8.8113e-04 - 440ms/epoch - 12ms/step\n",
            "Epoch 14/50\n",
            "36/36 - 0s - loss: 9.2568e-04 - 409ms/epoch - 11ms/step\n",
            "Epoch 15/50\n",
            "36/36 - 0s - loss: 8.9426e-04 - 406ms/epoch - 11ms/step\n",
            "Epoch 16/50\n",
            "36/36 - 0s - loss: 7.5299e-04 - 359ms/epoch - 10ms/step\n",
            "Epoch 17/50\n",
            "36/36 - 0s - loss: 7.9234e-04 - 306ms/epoch - 9ms/step\n",
            "Epoch 18/50\n",
            "36/36 - 0s - loss: 7.7377e-04 - 295ms/epoch - 8ms/step\n",
            "Epoch 19/50\n",
            "36/36 - 0s - loss: 7.3928e-04 - 308ms/epoch - 9ms/step\n",
            "Epoch 20/50\n",
            "36/36 - 0s - loss: 8.3666e-04 - 299ms/epoch - 8ms/step\n",
            "Epoch 21/50\n",
            "36/36 - 0s - loss: 6.8047e-04 - 299ms/epoch - 8ms/step\n",
            "Epoch 22/50\n",
            "36/36 - 0s - loss: 7.0088e-04 - 305ms/epoch - 8ms/step\n",
            "Epoch 23/50\n",
            "36/36 - 0s - loss: 6.5462e-04 - 295ms/epoch - 8ms/step\n",
            "Epoch 24/50\n",
            "36/36 - 0s - loss: 6.8017e-04 - 300ms/epoch - 8ms/step\n",
            "Epoch 25/50\n",
            "36/36 - 0s - loss: 6.6889e-04 - 303ms/epoch - 8ms/step\n",
            "Epoch 26/50\n",
            "36/36 - 0s - loss: 0.0011 - 306ms/epoch - 9ms/step\n",
            "Epoch 27/50\n",
            "36/36 - 0s - loss: 7.3366e-04 - 307ms/epoch - 9ms/step\n",
            "Epoch 28/50\n",
            "36/36 - 0s - loss: 7.2981e-04 - 294ms/epoch - 8ms/step\n",
            "Epoch 29/50\n",
            "36/36 - 0s - loss: 6.3012e-04 - 307ms/epoch - 9ms/step\n",
            "Epoch 30/50\n",
            "36/36 - 0s - loss: 6.7345e-04 - 294ms/epoch - 8ms/step\n",
            "Epoch 31/50\n",
            "36/36 - 0s - loss: 5.8661e-04 - 302ms/epoch - 8ms/step\n",
            "Epoch 32/50\n",
            "36/36 - 0s - loss: 5.9642e-04 - 311ms/epoch - 9ms/step\n",
            "Epoch 33/50\n",
            "36/36 - 0s - loss: 5.5918e-04 - 298ms/epoch - 8ms/step\n",
            "Epoch 34/50\n",
            "36/36 - 0s - loss: 5.8392e-04 - 299ms/epoch - 8ms/step\n",
            "Epoch 35/50\n",
            "36/36 - 0s - loss: 5.3852e-04 - 293ms/epoch - 8ms/step\n",
            "Epoch 36/50\n",
            "36/36 - 0s - loss: 5.5980e-04 - 305ms/epoch - 8ms/step\n",
            "Epoch 37/50\n",
            "36/36 - 0s - loss: 6.0640e-04 - 298ms/epoch - 8ms/step\n",
            "Epoch 38/50\n",
            "36/36 - 0s - loss: 5.3617e-04 - 303ms/epoch - 8ms/step\n",
            "Epoch 39/50\n",
            "36/36 - 0s - loss: 5.6108e-04 - 303ms/epoch - 8ms/step\n",
            "Epoch 40/50\n",
            "36/36 - 0s - loss: 5.7054e-04 - 307ms/epoch - 9ms/step\n",
            "Epoch 41/50\n",
            "36/36 - 0s - loss: 5.2486e-04 - 304ms/epoch - 8ms/step\n",
            "Epoch 42/50\n",
            "36/36 - 0s - loss: 5.3018e-04 - 313ms/epoch - 9ms/step\n",
            "Epoch 43/50\n",
            "36/36 - 0s - loss: 5.2333e-04 - 295ms/epoch - 8ms/step\n",
            "Epoch 44/50\n",
            "36/36 - 0s - loss: 5.0672e-04 - 304ms/epoch - 8ms/step\n",
            "Epoch 45/50\n",
            "36/36 - 0s - loss: 5.0424e-04 - 318ms/epoch - 9ms/step\n",
            "Epoch 46/50\n",
            "36/36 - 0s - loss: 4.9703e-04 - 298ms/epoch - 8ms/step\n",
            "Epoch 47/50\n",
            "36/36 - 0s - loss: 5.6381e-04 - 297ms/epoch - 8ms/step\n",
            "Epoch 48/50\n",
            "36/36 - 0s - loss: 5.8924e-04 - 308ms/epoch - 9ms/step\n",
            "Epoch 49/50\n",
            "36/36 - 0s - loss: 5.1336e-04 - 441ms/epoch - 12ms/step\n",
            "Epoch 50/50\n",
            "36/36 - 0s - loss: 4.8079e-04 - 440ms/epoch - 12ms/step\n"
          ]
        },
        {
          "output_type": "execute_result",
          "data": {
            "text/plain": [
              "<keras.callbacks.History at 0x7fcb146d80a0>"
            ]
          },
          "metadata": {},
          "execution_count": 80
        }
      ],
      "source": [
        "model = Sequential()\n",
        "\n",
        "# CNN LAYER\n",
        "model.add(Conv1D(filters=64, kernel_size=3, activation='relu', input_shape=(x_train.shape[1], 1)))\n",
        "model.add(Conv1D(filters=64, kernel_size=3, activation='relu'))\n",
        "model.add(MaxPooling1D(pool_size=2))\n",
        "model.add(Dropout(0.5))\n",
        "\n",
        "# LSTM LAYER\n",
        "model.add(LSTM(units=50, return_sequences=True))\n",
        "model.add(Dropout(0.2))\n",
        "model.add(LSTM(units=50, return_sequences=True))\n",
        "model.add(Dropout(0.2))\n",
        "model.add(LSTM(units=50))\n",
        "model.add(Dropout(0.2))\n",
        "\n",
        "# OUTPUT LAYER\n",
        "model.add(Dense(units=1))\n",
        "\n",
        "# MODEL COMEPILETION\n",
        "model.compile(optimizer='adam', loss='mean_squared_error')\n",
        "\n",
        "# FITTING MODEL\n",
        "model.fit(x_train, y_train, epochs=50, batch_size=50, verbose=2)\n",
        "\n"
      ]
    },
    {
      "cell_type": "markdown",
      "source": [
        "AFTER MODEL FIITING , TEST MODEL WITH TEST DATA"
      ],
      "metadata": {
        "id": "FeNeaGnifVIJ"
      }
    },
    {
      "cell_type": "code",
      "source": [
        "x_test = []\n",
        "y_test = []\n",
        "\n",
        "for i in range(60, len(test_data)):\n",
        "  x_test.append(test_data[i-60:i, 0])\n",
        "  y_test.append(test_data[i, 0])\n",
        "x_test, y_test = np.array(x_test), np.array(y_test)\n",
        "x_test = np.reshape(x_test, (x_test.shape[0], x_test.shape[1], 1))"
      ],
      "metadata": {
        "id": "izYAA7IBcO1d"
      },
      "execution_count": null,
      "outputs": []
    },
    {
      "cell_type": "code",
      "source": [
        "x_test.shape , y_test.shape"
      ],
      "metadata": {
        "colab": {
          "base_uri": "https://localhost:8080/"
        },
        "id": "d2vdVKCpcT3z",
        "outputId": "a3806d8d-fc5f-4770-e0c1-b5480ac4ef8f"
      },
      "execution_count": null,
      "outputs": [
        {
          "output_type": "execute_result",
          "data": {
            "text/plain": [
              "((604, 60, 1), (604,))"
            ]
          },
          "metadata": {},
          "execution_count": 82
        }
      ]
    },
    {
      "cell_type": "code",
      "source": [
        "predictions = model.predict(x_test)"
      ],
      "metadata": {
        "colab": {
          "base_uri": "https://localhost:8080/"
        },
        "id": "AD3CBncAcYrj",
        "outputId": "3a27c787-b243-4d80-95f9-991556a53fca"
      },
      "execution_count": null,
      "outputs": [
        {
          "output_type": "stream",
          "name": "stdout",
          "text": [
            "19/19 [==============================] - 1s 4ms/step\n"
          ]
        }
      ]
    },
    {
      "cell_type": "code",
      "source": [
        "predictions = scaler.inverse_transform(predictions)\n",
        "predictions.shape"
      ],
      "metadata": {
        "colab": {
          "base_uri": "https://localhost:8080/"
        },
        "id": "152zK-oncb9-",
        "outputId": "e7d9c294-e06c-4bfe-ade0-2af829076375"
      },
      "execution_count": null,
      "outputs": [
        {
          "output_type": "execute_result",
          "data": {
            "text/plain": [
              "(604, 1)"
            ]
          },
          "metadata": {},
          "execution_count": 84
        }
      ]
    },
    {
      "cell_type": "code",
      "source": [
        "y_test = scaler.inverse_transform([y_test])"
      ],
      "metadata": {
        "id": "bHLi9XA5cgB4"
      },
      "execution_count": null,
      "outputs": []
    },
    {
      "cell_type": "markdown",
      "source": [
        "AFTER TESTING CHECK THE DIFFERENCE BETWEEN ACTUAL AND PREDICTED RESULT"
      ],
      "metadata": {
        "id": "9yptW4Pyfeub"
      }
    },
    {
      "cell_type": "code",
      "source": [
        "RMSE = np.sqrt(np.mean( y_test - predictions )**2).round(2)\n"
      ],
      "metadata": {
        "id": "B97aG80SclxP"
      },
      "execution_count": null,
      "outputs": []
    },
    {
      "cell_type": "code",
      "source": [
        "RMSE"
      ],
      "metadata": {
        "colab": {
          "base_uri": "https://localhost:8080/"
        },
        "id": "wWQSti1SkSi_",
        "outputId": "08437335-9e8c-4eb0-da89-26f8e953a1ab"
      },
      "execution_count": null,
      "outputs": [
        {
          "output_type": "execute_result",
          "data": {
            "text/plain": [
              "0.6"
            ]
          },
          "metadata": {},
          "execution_count": 87
        }
      ]
    },
    {
      "cell_type": "code",
      "source": [
        "train = dataset.iloc[:train_size , 0:1]\n",
        "test = dataset.iloc[train_size: , 0:1]\n",
        "test['Predictions'] = predictions\n"
      ],
      "metadata": {
        "id": "jAHREf-fcp45"
      },
      "execution_count": null,
      "outputs": []
    },
    {
      "cell_type": "markdown",
      "source": [
        "PLOT THE RESULTS OF TESTING"
      ],
      "metadata": {
        "id": "r3Ofa45LfqAA"
      }
    },
    {
      "cell_type": "code",
      "source": [
        "plt.figure(figsize= (20, 10))\n",
        "plt.title('Tesla Close Stock Price Prediction', fontsize= 18)\n",
        "plt.xlabel('Date', fontsize= 18)\n",
        "plt.ylabel('Close Price', fontsize= 18)\n",
        "plt.plot(train['Close'], linewidth= 3)\n",
        "plt.plot(test['Close'], linewidth= 3)\n",
        "plt.plot(test[\"Predictions\"], linewidth= 3)\n",
        "plt.legend(['Train', 'Test', 'Predictions'])"
      ],
      "metadata": {
        "colab": {
          "base_uri": "https://localhost:8080/",
          "height": 424
        },
        "id": "KvRbJkXBctCM",
        "outputId": "f42da264-a54d-4a31-bafe-9a2f827eec40"
      },
      "execution_count": null,
      "outputs": [
        {
          "output_type": "execute_result",
          "data": {
            "text/plain": [
              "<matplotlib.legend.Legend at 0x7fcb0dd0b2b0>"
            ]
          },
          "metadata": {},
          "execution_count": 89
        },
        {
          "output_type": "display_data",
          "data": {
            "text/plain": [
              "<Figure size 2000x1000 with 1 Axes>"
            ],
            "image/png": "[encoded data removed]"
          },
          "metadata": {}
        }
      ]
    },
    {
      "cell_type": "markdown",
      "source": [
        "PREDICTION OF NEXT 30 DAYS USING THE MODEL"
      ],
      "metadata": {
        "id": "oVfrEqZvftrq"
      }
    },
    {
      "cell_type": "code",
      "source": [
        "def insert_end(Xin, new_input):\n",
        "    timestep = 60\n",
        "    for i in range(timestep - 1):\n",
        "        Xin[:, i, :] = Xin[:, i+1, :]\n",
        "    Xin[:, timestep - 1, :] = new_input\n",
        "    return Xin"
      ],
      "metadata": {
        "id": "NdZ-Z2Fyczd1"
      },
      "execution_count": null,
      "outputs": []
    },
    {
      "cell_type": "code",
      "source": [
        "from datetime import timedelta"
      ],
      "metadata": {
        "id": "5UMFhKwxdAHV"
      },
      "execution_count": null,
      "outputs": []
    },
    {
      "cell_type": "code",
      "source": [
        "future = 30\n",
        "forcast = []\n",
        "Xin = x_test[-1 :, :, :]\n",
        "time = []\n",
        "for i in range(0, future):\n",
        "    out = model.predict(Xin, batch_size=5)\n",
        "    forcast.append(out[0, 0]) \n",
        "    print(forcast)\n",
        "    Xin = insert_end(Xin, out[0, 0]) \n",
        "    time.append(pd.to_datetime(df.index[-1]) + timedelta(days=i))"
      ],
      "metadata": {
        "colab": {
          "base_uri": "https://localhost:8080/"
        },
        "id": "KW-qMOlCc9Za",
        "outputId": "2c0fb568-6ff8-4ef2-bada-4f2e3722719d"
      },
      "execution_count": null,
      "outputs": [
        {
          "output_type": "stream",
          "name": "stdout",
          "text": [
            "1/1 [==============================] - 0s 29ms/step\n",
            "[0.58819973]\n",
            "1/1 [==============================] - 0s 29ms/step\n",
            "[0.58819973, 0.5920378]\n",
            "1/1 [==============================] - 0s 29ms/step\n",
            "[0.58819973, 0.5920378, 0.59024084]\n",
            "1/1 [==============================] - 0s 29ms/step\n",
            "[0.58819973, 0.5920378, 0.59024084, 0.5765282]\n",
            "1/1 [==============================] - 0s 29ms/step\n",
            "[0.58819973, 0.5920378, 0.59024084, 0.5765282, 0.5664289]\n",
            "1/1 [==============================] - 0s 30ms/step\n",
            "[0.58819973, 0.5920378, 0.59024084, 0.5765282, 0.5664289, 0.55467343]\n",
            "1/1 [==============================] - 0s 30ms/step\n",
            "[0.58819973, 0.5920378, 0.59024084, 0.5765282, 0.5664289, 0.55467343, 0.5461111]\n",
            "1/1 [==============================] - 0s 29ms/step\n",
            "[0.58819973, 0.5920378, 0.59024084, 0.5765282, 0.5664289, 0.55467343, 0.5461111, 0.53690135]\n",
            "1/1 [==============================] - 0s 30ms/step\n",
            "[0.58819973, 0.5920378, 0.59024084, 0.5765282, 0.5664289, 0.55467343, 0.5461111, 0.53690135, 0.5299649]\n",
            "1/1 [==============================] - 0s 35ms/step\n",
            "[0.58819973, 0.5920378, 0.59024084, 0.5765282, 0.5664289, 0.55467343, 0.5461111, 0.53690135, 0.5299649, 0.5234163]\n",
            "1/1 [==============================] - 0s 24ms/step\n",
            "[0.58819973, 0.5920378, 0.59024084, 0.5765282, 0.5664289, 0.55467343, 0.5461111, 0.53690135, 0.5299649, 0.5234163, 0.518198]\n",
            "1/1 [==============================] - 0s 20ms/step\n",
            "[0.58819973, 0.5920378, 0.59024084, 0.5765282, 0.5664289, 0.55467343, 0.5461111, 0.53690135, 0.5299649, 0.5234163, 0.518198, 0.51370585]\n",
            "1/1 [==============================] - 0s 29ms/step\n",
            "[0.58819973, 0.5920378, 0.59024084, 0.5765282, 0.5664289, 0.55467343, 0.5461111, 0.53690135, 0.5299649, 0.5234163, 0.518198, 0.51370585, 0.5099273]\n",
            "1/1 [==============================] - 0s 21ms/step\n",
            "[0.58819973, 0.5920378, 0.59024084, 0.5765282, 0.5664289, 0.55467343, 0.5461111, 0.53690135, 0.5299649, 0.5234163, 0.518198, 0.51370585, 0.5099273, 0.50688773]\n",
            "1/1 [==============================] - 0s 19ms/step\n",
            "[0.58819973, 0.5920378, 0.59024084, 0.5765282, 0.5664289, 0.55467343, 0.5461111, 0.53690135, 0.5299649, 0.5234163, 0.518198, 0.51370585, 0.5099273, 0.50688773, 0.50423014]\n",
            "1/1 [==============================] - 0s 18ms/step\n",
            "[0.58819973, 0.5920378, 0.59024084, 0.5765282, 0.5664289, 0.55467343, 0.5461111, 0.53690135, 0.5299649, 0.5234163, 0.518198, 0.51370585, 0.5099273, 0.50688773, 0.50423014, 0.50214994]\n",
            "1/1 [==============================] - 0s 19ms/step\n",
            "[0.58819973, 0.5920378, 0.59024084, 0.5765282, 0.5664289, 0.55467343, 0.5461111, 0.53690135, 0.5299649, 0.5234163, 0.518198, 0.51370585, 0.5099273, 0.50688773, 0.50423014, 0.50214994, 0.50030565]\n",
            "1/1 [==============================] - 0s 20ms/step\n",
            "[0.58819973, 0.5920378, 0.59024084, 0.5765282, 0.5664289, 0.55467343, 0.5461111, 0.53690135, 0.5299649, 0.5234163, 0.518198, 0.51370585, 0.5099273, 0.50688773, 0.50423014, 0.50214994, 0.50030565, 0.49881777]\n",
            "1/1 [==============================] - 0s 19ms/step\n",
            "[0.58819973, 0.5920378, 0.59024084, 0.5765282, 0.5664289, 0.55467343, 0.5461111, 0.53690135, 0.5299649, 0.5234163, 0.518198, 0.51370585, 0.5099273, 0.50688773, 0.50423014, 0.50214994, 0.50030565, 0.49881777, 0.497515]\n",
            "1/1 [==============================] - 0s 20ms/step\n",
            "[0.58819973, 0.5920378, 0.59024084, 0.5765282, 0.5664289, 0.55467343, 0.5461111, 0.53690135, 0.5299649, 0.5234163, 0.518198, 0.51370585, 0.5099273, 0.50688773, 0.50423014, 0.50214994, 0.50030565, 0.49881777, 0.497515, 0.49635735]\n",
            "1/1 [==============================] - 0s 21ms/step\n",
            "[0.58819973, 0.5920378, 0.59024084, 0.5765282, 0.5664289, 0.55467343, 0.5461111, 0.53690135, 0.5299649, 0.5234163, 0.518198, 0.51370585, 0.5099273, 0.50688773, 0.50423014, 0.50214994, 0.50030565, 0.49881777, 0.497515, 0.49635735, 0.49537036]\n",
            "1/1 [==============================] - 0s 21ms/step\n",
            "[0.58819973, 0.5920378, 0.59024084, 0.5765282, 0.5664289, 0.55467343, 0.5461111, 0.53690135, 0.5299649, 0.5234163, 0.518198, 0.51370585, 0.5099273, 0.50688773, 0.50423014, 0.50214994, 0.50030565, 0.49881777, 0.497515, 0.49635735, 0.49537036, 0.4943612]\n",
            "1/1 [==============================] - 0s 22ms/step\n",
            "[0.58819973, 0.5920378, 0.59024084, 0.5765282, 0.5664289, 0.55467343, 0.5461111, 0.53690135, 0.5299649, 0.5234163, 0.518198, 0.51370585, 0.5099273, 0.50688773, 0.50423014, 0.50214994, 0.50030565, 0.49881777, 0.497515, 0.49635735, 0.49537036, 0.4943612, 0.4935169]\n",
            "1/1 [==============================] - 0s 18ms/step\n",
            "[0.58819973, 0.5920378, 0.59024084, 0.5765282, 0.5664289, 0.55467343, 0.5461111, 0.53690135, 0.5299649, 0.5234163, 0.518198, 0.51370585, 0.5099273, 0.50688773, 0.50423014, 0.50214994, 0.50030565, 0.49881777, 0.497515, 0.49635735, 0.49537036, 0.4943612, 0.4935169, 0.49253944]\n",
            "1/1 [==============================] - 0s 20ms/step\n",
            "[0.58819973, 0.5920378, 0.59024084, 0.5765282, 0.5664289, 0.55467343, 0.5461111, 0.53690135, 0.5299649, 0.5234163, 0.518198, 0.51370585, 0.5099273, 0.50688773, 0.50423014, 0.50214994, 0.50030565, 0.49881777, 0.497515, 0.49635735, 0.49537036, 0.4943612, 0.4935169, 0.49253944, 0.49171934]\n",
            "1/1 [==============================] - 0s 19ms/step\n",
            "[0.58819973, 0.5920378, 0.59024084, 0.5765282, 0.5664289, 0.55467343, 0.5461111, 0.53690135, 0.5299649, 0.5234163, 0.518198, 0.51370585, 0.5099273, 0.50688773, 0.50423014, 0.50214994, 0.50030565, 0.49881777, 0.497515, 0.49635735, 0.49537036, 0.4943612, 0.4935169, 0.49253944, 0.49171934, 0.49070498]\n",
            "1/1 [==============================] - 0s 21ms/step\n",
            "[0.58819973, 0.5920378, 0.59024084, 0.5765282, 0.5664289, 0.55467343, 0.5461111, 0.53690135, 0.5299649, 0.5234163, 0.518198, 0.51370585, 0.5099273, 0.50688773, 0.50423014, 0.50214994, 0.50030565, 0.49881777, 0.497515, 0.49635735, 0.49537036, 0.4943612, 0.4935169, 0.49253944, 0.49171934, 0.49070498, 0.48983577]\n",
            "1/1 [==============================] - 0s 19ms/step\n",
            "[0.58819973, 0.5920378, 0.59024084, 0.5765282, 0.5664289, 0.55467343, 0.5461111, 0.53690135, 0.5299649, 0.5234163, 0.518198, 0.51370585, 0.5099273, 0.50688773, 0.50423014, 0.50214994, 0.50030565, 0.49881777, 0.497515, 0.49635735, 0.49537036, 0.4943612, 0.4935169, 0.49253944, 0.49171934, 0.49070498, 0.48983577, 0.48875126]\n",
            "1/1 [==============================] - 0s 19ms/step\n",
            "[0.58819973, 0.5920378, 0.59024084, 0.5765282, 0.5664289, 0.55467343, 0.5461111, 0.53690135, 0.5299649, 0.5234163, 0.518198, 0.51370585, 0.5099273, 0.50688773, 0.50423014, 0.50214994, 0.50030565, 0.49881777, 0.497515, 0.49635735, 0.49537036, 0.4943612, 0.4935169, 0.49253944, 0.49171934, 0.49070498, 0.48983577, 0.48875126, 0.4877993]\n",
            "1/1 [==============================] - 0s 20ms/step\n",
            "[0.58819973, 0.5920378, 0.59024084, 0.5765282, 0.5664289, 0.55467343, 0.5461111, 0.53690135, 0.5299649, 0.5234163, 0.518198, 0.51370585, 0.5099273, 0.50688773, 0.50423014, 0.50214994, 0.50030565, 0.49881777, 0.497515, 0.49635735, 0.49537036, 0.4943612, 0.4935169, 0.49253944, 0.49171934, 0.49070498, 0.48983577, 0.48875126, 0.4877993, 0.48663744]\n"
          ]
        }
      ]
    },
    {
      "cell_type": "code",
      "source": [
        "forcasted_output = np.asanyarray(forcast)   \n",
        "forcasted_output = forcasted_output.reshape(-1, 1) \n",
        "forcasted_output = scaler.inverse_transform(forcasted_output)"
      ],
      "metadata": {
        "id": "cATeYsDgdMJB"
      },
      "execution_count": null,
      "outputs": []
    },
    {
      "cell_type": "code",
      "source": [
        "forcasted_output = pd.DataFrame(forcasted_output)\n",
        "date = pd.DataFrame(time)\n",
        "df_result = pd.concat([date,forcasted_output], axis=1)\n",
        "df_result.columns = \"DATE\", \"CLOSE\"\n",
        "df_result"
      ],
      "metadata": {
        "colab": {
          "base_uri": "https://localhost:8080/",
          "height": 990
        },
        "id": "tTryiQYYdOxQ",
        "outputId": "26159808-f543-4d51-a319-85c44980f4c9"
      },
      "execution_count": null,
      "outputs": [
        {
          "output_type": "execute_result",
          "data": {
            "text/plain": [
              "                            DATE       CLOSE\n",
              "0  1970-01-01 00:00:00.000002415  465.302246\n",
              "1  1970-01-02 00:00:00.000002415  468.235291\n",
              "2  1970-01-03 00:00:00.000002415  466.862061\n",
              "3  1970-01-04 00:00:00.000002415  456.382874\n",
              "4  1970-01-05 00:00:00.000002415  448.664978\n",
              "5  1970-01-06 00:00:00.000002415  439.681458\n",
              "6  1970-01-07 00:00:00.000002415  433.138123\n",
              "7  1970-01-08 00:00:00.000002415  426.100037\n",
              "8  1970-01-09 00:00:00.000002415  420.799225\n",
              "9  1970-01-10 00:00:00.000002415  415.794739\n",
              "10 1970-01-11 00:00:00.000002415  411.806946\n",
              "11 1970-01-12 00:00:00.000002415  408.374023\n",
              "12 1970-01-13 00:00:00.000002415  405.486450\n",
              "13 1970-01-14 00:00:00.000002415  403.163635\n",
              "14 1970-01-15 00:00:00.000002415  401.132690\n",
              "15 1970-01-16 00:00:00.000002415  399.542999\n",
              "16 1970-01-17 00:00:00.000002415  398.133606\n",
              "17 1970-01-18 00:00:00.000002415  396.996552\n",
              "18 1970-01-19 00:00:00.000002415  396.000946\n",
              "19 1970-01-20 00:00:00.000002415  395.116272\n",
              "20 1970-01-21 00:00:00.000002415  394.362030\n",
              "21 1970-01-22 00:00:00.000002415  393.590820\n",
              "22 1970-01-23 00:00:00.000002415  392.945618\n",
              "23 1970-01-24 00:00:00.000002415  392.198639\n",
              "24 1970-01-25 00:00:00.000002415  391.571899\n",
              "25 1970-01-26 00:00:00.000002415  390.796753\n",
              "26 1970-01-27 00:00:00.000002415  390.132477\n",
              "27 1970-01-28 00:00:00.000002415  389.303711\n",
              "28 1970-01-29 00:00:00.000002415  388.576233\n",
              "29 1970-01-30 00:00:00.000002415  387.688324"
            ],
            "text/html": [
              "\n",
              "  <div id=\"df-3ac0b0f6-e785-4bb5-b099-c26c42cf5bdb\">\n",
              "    <div class=\"colab-df-container\">\n",
              "      <div>\n",
              "<style scoped>\n",
              "    .dataframe tbody tr th:only-of-type {\n",
              "        vertical-align: middle;\n",
              "    }\n",
              "\n",
              "    .dataframe tbody tr th {\n",
              "        vertical-align: top;\n",
              "    }\n",
              "\n",
              "    .dataframe thead th {\n",
              "        text-align: right;\n",
              "    }\n",
              "</style>\n",
              "<table border=\"1\" class=\"dataframe\">\n",
              "  <thead>\n",
              "    <tr style=\"text-align: right;\">\n",
              "      <th></th>\n",
              "      <th>DATE</th>\n",
              "      <th>CLOSE</th>\n",
              "    </tr>\n",
              "  </thead>\n",
              "  <tbody>\n",
              "    <tr>\n",
              "      <th>0</th>\n",
              "      <td>1970-01-01 00:00:00.000002415</td>\n",
              "      <td>465.302246</td>\n",
              "    </tr>\n",
              "    <tr>\n",
              "      <th>1</th>\n",
              "      <td>1970-01-02 00:00:00.000002415</td>\n",
              "      <td>468.235291</td>\n",
              "    </tr>\n",
              "    <tr>\n",
              "      <th>2</th>\n",
              "      <td>1970-01-03 00:00:00.000002415</td>\n",
              "      <td>466.862061</td>\n",
              "    </tr>\n",
              "    <tr>\n",
              "      <th>3</th>\n",
              "      <td>1970-01-04 00:00:00.000002415</td>\n",
              "      <td>456.382874</td>\n",
              "    </tr>\n",
              "    <tr>\n",
              "      <th>4</th>\n",
              "      <td>1970-01-05 00:00:00.000002415</td>\n",
              "      <td>448.664978</td>\n",
              "    </tr>\n",
              "    <tr>\n",
              "      <th>5</th>\n",
              "      <td>1970-01-06 00:00:00.000002415</td>\n",
              "      <td>439.681458</td>\n",
              "    </tr>\n",
              "    <tr>\n",
              "      <th>6</th>\n",
              "      <td>1970-01-07 00:00:00.000002415</td>\n",
              "      <td>433.138123</td>\n",
              "    </tr>\n",
              "    <tr>\n",
              "      <th>7</th>\n",
              "      <td>1970-01-08 00:00:00.000002415</td>\n",
              "      <td>426.100037</td>\n",
              "    </tr>\n",
              "    <tr>\n",
              "      <th>8</th>\n",
              "      <td>1970-01-09 00:00:00.000002415</td>\n",
              "      <td>420.799225</td>\n",
              "    </tr>\n",
              "    <tr>\n",
              "      <th>9</th>\n",
              "      <td>1970-01-10 00:00:00.000002415</td>\n",
              "      <td>415.794739</td>\n",
              "    </tr>\n",
              "    <tr>\n",
              "      <th>10</th>\n",
              "      <td>1970-01-11 00:00:00.000002415</td>\n",
              "      <td>411.806946</td>\n",
              "    </tr>\n",
              "    <tr>\n",
              "      <th>11</th>\n",
              "      <td>1970-01-12 00:00:00.000002415</td>\n",
              "      <td>408.374023</td>\n",
              "    </tr>\n",
              "    <tr>\n",
              "      <th>12</th>\n",
              "      <td>1970-01-13 00:00:00.000002415</td>\n",
              "      <td>405.486450</td>\n",
              "    </tr>\n",
              "    <tr>\n",
              "      <th>13</th>\n",
              "      <td>1970-01-14 00:00:00.000002415</td>\n",
              "      <td>403.163635</td>\n",
              "    </tr>\n",
              "    <tr>\n",
              "      <th>14</th>\n",
              "      <td>1970-01-15 00:00:00.000002415</td>\n",
              "      <td>401.132690</td>\n",
              "    </tr>\n",
              "    <tr>\n",
              "      <th>15</th>\n",
              "      <td>1970-01-16 00:00:00.000002415</td>\n",
              "      <td>399.542999</td>\n",
              "    </tr>\n",
              "    <tr>\n",
              "      <th>16</th>\n",
              "      <td>1970-01-17 00:00:00.000002415</td>\n",
              "      <td>398.133606</td>\n",
              "    </tr>\n",
              "    <tr>\n",
              "      <th>17</th>\n",
              "      <td>1970-01-18 00:00:00.000002415</td>\n",
              "      <td>396.996552</td>\n",
              "    </tr>\n",
              "    <tr>\n",
              "      <th>18</th>\n",
              "      <td>1970-01-19 00:00:00.000002415</td>\n",
              "      <td>396.000946</td>\n",
              "    </tr>\n",
              "    <tr>\n",
              "      <th>19</th>\n",
              "      <td>1970-01-20 00:00:00.000002415</td>\n",
              "      <td>395.116272</td>\n",
              "    </tr>\n",
              "    <tr>\n",
              "      <th>20</th>\n",
              "      <td>1970-01-21 00:00:00.000002415</td>\n",
              "      <td>394.362030</td>\n",
              "    </tr>\n",
              "    <tr>\n",
              "      <th>21</th>\n",
              "      <td>1970-01-22 00:00:00.000002415</td>\n",
              "      <td>393.590820</td>\n",
              "    </tr>\n",
              "    <tr>\n",
              "      <th>22</th>\n",
              "      <td>1970-01-23 00:00:00.000002415</td>\n",
              "      <td>392.945618</td>\n",
              "    </tr>\n",
              "    <tr>\n",
              "      <th>23</th>\n",
              "      <td>1970-01-24 00:00:00.000002415</td>\n",
              "      <td>392.198639</td>\n",
              "    </tr>\n",
              "    <tr>\n",
              "      <th>24</th>\n",
              "      <td>1970-01-25 00:00:00.000002415</td>\n",
              "      <td>391.571899</td>\n",
              "    </tr>\n",
              "    <tr>\n",
              "      <th>25</th>\n",
              "      <td>1970-01-26 00:00:00.000002415</td>\n",
              "      <td>390.796753</td>\n",
              "    </tr>\n",
              "    <tr>\n",
              "      <th>26</th>\n",
              "      <td>1970-01-27 00:00:00.000002415</td>\n",
              "      <td>390.132477</td>\n",
              "    </tr>\n",
              "    <tr>\n",
              "      <th>27</th>\n",
              "      <td>1970-01-28 00:00:00.000002415</td>\n",
              "      <td>389.303711</td>\n",
              "    </tr>\n",
              "    <tr>\n",
              "      <th>28</th>\n",
              "      <td>1970-01-29 00:00:00.000002415</td>\n",
              "      <td>388.576233</td>\n",
              "    </tr>\n",
              "    <tr>\n",
              "      <th>29</th>\n",
              "      <td>1970-01-30 00:00:00.000002415</td>\n",
              "      <td>387.688324</td>\n",
              "    </tr>\n",
              "  </tbody>\n",
              "</table>\n",
              "</div>\n",
              "      <button class=\"colab-df-convert\" onclick=\"convertToInteractive('df-3ac0b0f6-e785-4bb5-b099-c26c42cf5bdb')\"\n",
              "              title=\"Convert this dataframe to an interactive table.\"\n",
              "              style=\"display:none;\">\n",
              "        \n",
              "  <svg xmlns=\"http://www.w3.org/2000/svg\" height=\"24px\"viewBox=\"0 0 24 24\"\n",
              "       width=\"24px\">\n",
              "    <path d=\"M0 0h24v24H0V0z\" fill=\"none\"/>\n",
              "    <path d=\"M18.56 5.44l.94 2.06.94-2.06 2.06-.94-2.06-.94-.94-2.06-.94 2.06-2.06.94zm-11 1L8.5 8.5l.94-2.06 2.06-.94-2.06-.94L8.5 2.5l-.94 2.06-2.06.94zm10 10l.94 2.06.94-2.06 2.06-.94-2.06-.94-.94-2.06-.94 2.06-2.06.94z\"/><path d=\"M17.41 7.96l-1.37-1.37c-.4-.4-.92-.59-1.43-.59-.52 0-1.04.2-1.43.59L10.3 9.45l-7.72 7.72c-.78.78-.78 2.05 0 2.83L4 21.41c.39.39.9.59 1.41.59.51 0 1.02-.2 1.41-.59l7.78-7.78 2.81-2.81c.8-.78.8-2.07 0-2.86zM5.41 20L4 18.59l7.72-7.72 1.47 1.35L5.41 20z\"/>\n",
              "  </svg>\n",
              "      </button>\n",
              "      \n",
              "  <style>\n",
              "    .colab-df-container {\n",
              "      display:flex;\n",
              "      flex-wrap:wrap;\n",
              "      gap: 12px;\n",
              "    }\n",
              "\n",
              "    .colab-df-convert {\n",
              "      background-color: #E8F0FE;\n",
              "      border: none;\n",
              "      border-radius: 50%;\n",
              "      cursor: pointer;\n",
              "      display: none;\n",
              "      fill: #1967D2;\n",
              "      height: 32px;\n",
              "      padding: 0 0 0 0;\n",
              "      width: 32px;\n",
              "    }\n",
              "\n",
              "    .colab-df-convert:hover {\n",
              "      background-color: #E2EBFA;\n",
              "      box-shadow: 0px 1px 2px rgba(60, 64, 67, 0.3), 0px 1px 3px 1px rgba(60, 64, 67, 0.15);\n",
              "      fill: #174EA6;\n",
              "    }\n",
              "\n",
              "    [theme=dark] .colab-df-convert {\n",
              "      background-color: #3B4455;\n",
              "      fill: #D2E3FC;\n",
              "    }\n",
              "\n",
              "    [theme=dark] .colab-df-convert:hover {\n",
              "      background-color: #434B5C;\n",
              "      box-shadow: 0px 1px 3px 1px rgba(0, 0, 0, 0.15);\n",
              "      filter: drop-shadow(0px 1px 2px rgba(0, 0, 0, 0.3));\n",
              "      fill: #FFFFFF;\n",
              "    }\n",
              "  </style>\n",
              "\n",
              "      <script>\n",
              "        const buttonEl =\n",
              "          document.querySelector('#df-3ac0b0f6-e785-4bb5-b099-c26c42cf5bdb button.colab-df-convert');\n",
              "        buttonEl.style.display =\n",
              "          google.colab.kernel.accessAllowed ? 'block' : 'none';\n",
              "\n",
              "        async function convertToInteractive(key) {\n",
              "          const element = document.querySelector('#df-3ac0b0f6-e785-4bb5-b099-c26c42cf5bdb');\n",
              "          const dataTable =\n",
              "            await google.colab.kernel.invokeFunction('convertToInteractive',\n",
              "                                                     [key], {});\n",
              "          if (!dataTable) return;\n",
              "\n",
              "          const docLinkHtml = 'Like what you see? Visit the ' +\n",
              "            '<a target=\"_blank\" href=https://colab.research.google.com/notebooks/data_table.ipynb>data table notebook</a>'\n",
              "            + ' to learn more about interactive tables.';\n",
              "          element.innerHTML = '';\n",
              "          dataTable['output_type'] = 'display_data';\n",
              "          await google.colab.output.renderOutput(dataTable, element);\n",
              "          const docLink = document.createElement('div');\n",
              "          docLink.innerHTML = docLinkHtml;\n",
              "          element.appendChild(docLink);\n",
              "        }\n",
              "      </script>\n",
              "    </div>\n",
              "  </div>\n",
              "  "
            ]
          },
          "metadata": {},
          "execution_count": 94
        }
      ]
    },
    {
      "cell_type": "markdown",
      "source": [
        "PLOT THE PREDICTED RESULT "
      ],
      "metadata": {
        "id": "mpcMhM3Af2gm"
      }
    },
    {
      "cell_type": "code",
      "source": [
        "plt.figure(figsize=(20, 5))\n",
        "plt.title('Tesla Close Stock Price Forecasting For Next 30 Days')\n",
        "plt.xlabel('DATE', fontsize=18)\n",
        "plt.ylabel('Close' ,fontsize=18)\n",
        "plt.plot(df['Close'])\n",
        "plt.plot(df_result.set_index('DATE')[['CLOSE']])"
      ],
      "metadata": {
        "colab": {
          "base_uri": "https://localhost:8080/",
          "height": 250
        },
        "id": "PtApif-3dRpF",
        "outputId": "62cd2b60-0eb5-4cc4-b418-5b3118d1cc32"
      },
      "execution_count": null,
      "outputs": [
        {
          "output_type": "execute_result",
          "data": {
            "text/plain": [
              "[<matplotlib.lines.Line2D at 0x7fcb0dc3d5b0>]"
            ]
          },
          "metadata": {},
          "execution_count": 95
        },
        {
          "output_type": "display_data",
          "data": {
            "text/plain": [
              "<Figure size 2000x500 with 1 Axes>"
            ],
            "image/png": "[encoded data removed]"
          },
          "metadata": {}
        }
      ]
    }
  ]
}